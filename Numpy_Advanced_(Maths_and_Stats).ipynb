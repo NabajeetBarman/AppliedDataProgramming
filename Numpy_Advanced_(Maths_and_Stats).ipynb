{
  "nbformat": 4,
  "nbformat_minor": 0,
  "metadata": {
    "colab": {
      "name": "Github-Numpy Advanced (Maths and Stats)",
      "provenance": [],
      "collapsed_sections": [],
      "toc_visible": true,
      "include_colab_link": true
    },
    "kernelspec": {
      "name": "python3",
      "display_name": "Python 3"
    }
  },
  "cells": [
    {
      "cell_type": "markdown",
      "metadata": {
        "id": "view-in-github",
        "colab_type": "text"
      },
      "source": [
        "<a href=\"https://colab.research.google.com/github/NabajeetBarman/AppliedDataProgramming/blob/main/Numpy_Advanced_(Maths_and_Stats).ipynb\" target=\"_parent\"><img src=\"https://colab.research.google.com/assets/colab-badge.svg\" alt=\"Open In Colab\"/></a>"
      ]
    },
    {
      "cell_type": "markdown",
      "metadata": {
        "id": "_pIPTYQF3l-y"
      },
      "source": [
        "#Numpy Advanced (Basic Maths and Statistics)\n",
        "\n",
        "#####################################################################################\n",
        "\n",
        "Parts of this module is borrowed from the official [Numpy Manual v1.21](https://numpy.org/doc/stable/#) and Official Scipy Lecture notes.\n",
        "\n",
        "Copyright@ *Nabajeet Barman*\n",
        "\n",
        "#####################################################################################\n"
      ]
    },
    {
      "cell_type": "code",
      "metadata": {
        "id": "ZVNEryikFe-V"
      },
      "source": [
        "import numpy as np # Let us start by importing numpy"
      ],
      "execution_count": null,
      "outputs": []
    },
    {
      "cell_type": "markdown",
      "metadata": {
        "id": "8_-HNfStri33"
      },
      "source": [
        "# Basic array operations\n",
        "\n",
        "Here we will discuss\n",
        "\n",
        "* Addition\n",
        "* Subtraction\n",
        "* Multiplication\n",
        "* Division"
      ]
    },
    {
      "cell_type": "code",
      "metadata": {
        "id": "PMTW1_p1e6MK",
        "colab": {
          "base_uri": "https://localhost:8080/"
        },
        "outputId": "be540be6-2205-4945-b9cf-9a3843aa2c03"
      },
      "source": [
        "arr = np.array([1,2,3,4,5,])\n",
        "arr"
      ],
      "execution_count": null,
      "outputs": [
        {
          "output_type": "execute_result",
          "data": {
            "text/plain": [
              "array([1, 2, 3, 4, 5])"
            ]
          },
          "metadata": {},
          "execution_count": 2
        }
      ]
    },
    {
      "cell_type": "code",
      "metadata": {
        "id": "oz-uI_vye_68",
        "colab": {
          "base_uri": "https://localhost:8080/"
        },
        "outputId": "cd72572a-f80b-4f43-8046-27c4835d26d5"
      },
      "source": [
        "# basic operations\n",
        "# adding a scalar\n",
        "arr + 3"
      ],
      "execution_count": null,
      "outputs": [
        {
          "output_type": "execute_result",
          "data": {
            "text/plain": [
              "array([4, 5, 6, 7, 8])"
            ]
          },
          "metadata": {},
          "execution_count": 3
        }
      ]
    },
    {
      "cell_type": "code",
      "metadata": {
        "id": "K911koj7fGSu",
        "colab": {
          "base_uri": "https://localhost:8080/"
        },
        "outputId": "9c55333b-3c2a-4a04-f40a-3490751f573e"
      },
      "source": [
        "#subtracting a scalar\n",
        "arr - 3"
      ],
      "execution_count": null,
      "outputs": [
        {
          "output_type": "execute_result",
          "data": {
            "text/plain": [
              "array([-2, -1,  0,  1,  2])"
            ]
          },
          "metadata": {},
          "execution_count": 4
        }
      ]
    },
    {
      "cell_type": "code",
      "metadata": {
        "id": "7Cf7noqofGYV",
        "colab": {
          "base_uri": "https://localhost:8080/"
        },
        "outputId": "b734a029-7174-4638-ef90-ce3d4c4aed84"
      },
      "source": [
        "# multiplying a scalar\n",
        "arr * 3"
      ],
      "execution_count": null,
      "outputs": [
        {
          "output_type": "execute_result",
          "data": {
            "text/plain": [
              "array([ 3,  6,  9, 12, 15])"
            ]
          },
          "metadata": {},
          "execution_count": 5
        }
      ]
    },
    {
      "cell_type": "code",
      "metadata": {
        "id": "hnkT0SYXfGbv",
        "colab": {
          "base_uri": "https://localhost:8080/"
        },
        "outputId": "9f069b24-ffa8-4fd8-f043-7942fda20d61"
      },
      "source": [
        "#dividing by a scalar\n",
        "arr / 3"
      ],
      "execution_count": null,
      "outputs": [
        {
          "output_type": "execute_result",
          "data": {
            "text/plain": [
              "array([0.33333333, 0.66666667, 1.        , 1.33333333, 1.66666667])"
            ]
          },
          "metadata": {},
          "execution_count": 6
        }
      ]
    },
    {
      "cell_type": "markdown",
      "metadata": {
        "id": "tnbywLpUwXVr"
      },
      "source": [
        "# NumPy Broadcasting\n",
        "\n",
        "NumPy operations are usually done on pairs of arrays on an element-by-element basis. In the simplest case, the two arrays must have exactly the same shape."
      ]
    },
    {
      "cell_type": "code",
      "metadata": {
        "id": "21RSE8JiNxui",
        "colab": {
          "base_uri": "https://localhost:8080/"
        },
        "outputId": "f183846c-4a29-4bec-9f71-08f95cb04b15"
      },
      "source": [
        "#like we just saw earlier\n",
        "# for example\n",
        "a = np.array([1.0, 2.0, 3.0])\n",
        "b = np.array([2.0, 2.0, 2.0])\n",
        "a*b"
      ],
      "execution_count": null,
      "outputs": [
        {
          "output_type": "execute_result",
          "data": {
            "text/plain": [
              "array([2., 4., 6.])"
            ]
          },
          "metadata": {},
          "execution_count": 7
        }
      ]
    },
    {
      "cell_type": "code",
      "metadata": {
        "id": "iyoW5b3wOAtS",
        "colab": {
          "base_uri": "https://localhost:8080/"
        },
        "outputId": "94405993-4170-42bb-fed4-82d8c863d67f"
      },
      "source": [
        "# in case of scalar multiplication\n",
        "a * 2.0"
      ],
      "execution_count": null,
      "outputs": [
        {
          "output_type": "execute_result",
          "data": {
            "text/plain": [
              "array([2., 4., 6.])"
            ]
          },
          "metadata": {},
          "execution_count": 8
        }
      ]
    },
    {
      "cell_type": "markdown",
      "metadata": {
        "id": "WLTD16aBOG1X"
      },
      "source": [
        "This is what broadcasting is!!! \n",
        "\n",
        "Actually, scalar value 2.0 is in memory created into an array of same shape as `a`\n",
        "\n",
        "When operating on two arrays, NumPy compares their shapes element-wise. It starts with the trailing dimensions and works its way forward. Two dimensions are compatible when\n",
        "\n",
        ">* they are equal, or\n",
        ">* one of them is 1\n",
        "\n",
        "If these conditions are not met, a ValueError: operands could not be broadcast together exception is thrown, indicating that the arrays have incompatible shapes. The size of the resulting array is the size that is not 1 along each axis of the inputs."
      ]
    },
    {
      "cell_type": "markdown",
      "metadata": {
        "id": "uyZmqy9g2Gwf"
      },
      "source": [
        "NumPy’s broadcasting rule relaxes this constraint when the arrays’ shapes meet certain constraints. The simplest broadcasting example occurs when an array and a scalar value are combined in an operation:\n",
        "\n",
        "![NumPy Broadcasting ](https://drive.google.com/uc?export=view&id=1FmczV-HEq5Kee5XFrlG_OhP4DJ5ObWdT)"
      ]
    },
    {
      "cell_type": "markdown",
      "metadata": {
        "id": "1v4sqLY8S-Rn"
      },
      "source": [
        "Rules of Broadcasting\n",
        "Broadcasting in NumPy follows a strict set of rules to determine the interaction\n",
        "between the two arrays:\n",
        "> • Rule 1: If the two arrays differ in their number of dimensions, the shape of the\n",
        "one with fewer dimensions is padded with ones on its leading (left) side.\n",
        "\n",
        "> • Rule 2: If the shape of the two arrays does not match in any dimension, the array\n",
        "with shape equal to 1 in that dimension is stretched to match the other shape.\n",
        "\n",
        "> • Rule 3: If in any dimension the sizes disagree and neither is equal to 1, an error is\n",
        "raised.\n",
        "\n",
        "You can read more about broadcasting [here](https://numpy.org/doc/stable/user/basics.broadcasting.html) and Section 4.2.3 [here](https://scipy-lectures.org/_downloads/ScipyLectures.pdf) from which we have also used the examples below."
      ]
    },
    {
      "cell_type": "markdown",
      "metadata": {
        "id": "YHgqglUozg_S"
      },
      "source": [
        "## Case 1:"
      ]
    },
    {
      "cell_type": "code",
      "metadata": {
        "id": "sCCuY51nwXlh",
        "colab": {
          "base_uri": "https://localhost:8080/"
        },
        "outputId": "637fceb5-6739-4a75-b907-979635240022"
      },
      "source": [
        "# Let us define the matrix above\n",
        "#mat_a = np.tile(np.arange(0, 40, 10), (3, 1)).T\n",
        "mat_a = np.array([[0,0,0],[10,10,10],[20,20,20],[30,30,30]])\n",
        "print(mat_a)"
      ],
      "execution_count": null,
      "outputs": [
        {
          "output_type": "stream",
          "name": "stdout",
          "text": [
            "[[ 0  0  0]\n",
            " [10 10 10]\n",
            " [20 20 20]\n",
            " [30 30 30]]\n"
          ]
        }
      ]
    },
    {
      "cell_type": "code",
      "metadata": {
        "id": "mavn4CRay4h2",
        "colab": {
          "base_uri": "https://localhost:8080/"
        },
        "outputId": "d47d952d-8e2a-4dd6-d1d1-377337f36147"
      },
      "source": [
        "# define the other matrix\n",
        "mat_b = np.array([[0,1,2],[0,1,2],[0,1,2],[0,1,2]])\n",
        "print(mat_b)"
      ],
      "execution_count": null,
      "outputs": [
        {
          "output_type": "stream",
          "name": "stdout",
          "text": [
            "[[0 1 2]\n",
            " [0 1 2]\n",
            " [0 1 2]\n",
            " [0 1 2]]\n"
          ]
        }
      ]
    },
    {
      "cell_type": "code",
      "metadata": {
        "id": "kO0o5gwTzVFq",
        "colab": {
          "base_uri": "https://localhost:8080/"
        },
        "outputId": "12d7dd5e-f844-436b-e945-956ee059556c"
      },
      "source": [
        "mat_a + mat_b"
      ],
      "execution_count": null,
      "outputs": [
        {
          "output_type": "execute_result",
          "data": {
            "text/plain": [
              "array([[ 0,  1,  2],\n",
              "       [10, 11, 12],\n",
              "       [20, 21, 22],\n",
              "       [30, 31, 32]])"
            ]
          },
          "metadata": {},
          "execution_count": 11
        }
      ]
    },
    {
      "cell_type": "markdown",
      "metadata": {
        "id": "0x0O2rSMzjWT"
      },
      "source": [
        "## Case 2:"
      ]
    },
    {
      "cell_type": "code",
      "metadata": {
        "id": "yx9hTa91zrAo",
        "colab": {
          "base_uri": "https://localhost:8080/"
        },
        "outputId": "908c4f34-6bab-4ea6-a3c5-deda5d26b51f"
      },
      "source": [
        "mat_b = np.array([0,1,2])\n",
        "print(mat_b)"
      ],
      "execution_count": null,
      "outputs": [
        {
          "output_type": "stream",
          "name": "stdout",
          "text": [
            "[0 1 2]\n"
          ]
        }
      ]
    },
    {
      "cell_type": "code",
      "metadata": {
        "id": "IFykUfsIzxWF",
        "colab": {
          "base_uri": "https://localhost:8080/"
        },
        "outputId": "4addf839-8b07-4a20-ab6d-c3557a23a453"
      },
      "source": [
        "mat_a + mat_b"
      ],
      "execution_count": null,
      "outputs": [
        {
          "output_type": "execute_result",
          "data": {
            "text/plain": [
              "array([[ 0,  1,  2],\n",
              "       [10, 11, 12],\n",
              "       [20, 21, 22],\n",
              "       [30, 31, 32]])"
            ]
          },
          "metadata": {},
          "execution_count": 13
        }
      ]
    },
    {
      "cell_type": "markdown",
      "metadata": {
        "id": "fDj3QcUMz2AN"
      },
      "source": [
        "## Case 3:"
      ]
    },
    {
      "cell_type": "code",
      "metadata": {
        "id": "xzSK5nVGz6iE",
        "colab": {
          "base_uri": "https://localhost:8080/"
        },
        "outputId": "9bb86b3a-194c-4490-e857-502530a36fa4"
      },
      "source": [
        "mat_a = np.arange(0,40,10).T\n",
        "mat_a.shape"
      ],
      "execution_count": null,
      "outputs": [
        {
          "output_type": "execute_result",
          "data": {
            "text/plain": [
              "(4,)"
            ]
          },
          "metadata": {},
          "execution_count": 14
        }
      ]
    },
    {
      "cell_type": "code",
      "metadata": {
        "id": "K1hxsvK19wL3",
        "colab": {
          "base_uri": "https://localhost:8080/"
        },
        "outputId": "18cf327c-bfc4-4139-b277-aa8532835c8e"
      },
      "source": [
        "mat_a = mat_a.reshape(4,1)\n",
        "print(mat_a)"
      ],
      "execution_count": null,
      "outputs": [
        {
          "output_type": "stream",
          "name": "stdout",
          "text": [
            "[[ 0]\n",
            " [10]\n",
            " [20]\n",
            " [30]]\n"
          ]
        }
      ]
    },
    {
      "cell_type": "code",
      "metadata": {
        "id": "GXxs2qU60Mrr",
        "colab": {
          "base_uri": "https://localhost:8080/"
        },
        "outputId": "d3b11fba-bb03-4265-e0f9-2ebe6eb066d6"
      },
      "source": [
        "mat_a = mat_a[:, np.newaxis] # add a new axis --> 2D array\n",
        "mat_a"
      ],
      "execution_count": null,
      "outputs": [
        {
          "output_type": "execute_result",
          "data": {
            "text/plain": [
              "array([[[ 0]],\n",
              "\n",
              "       [[10]],\n",
              "\n",
              "       [[20]],\n",
              "\n",
              "       [[30]]])"
            ]
          },
          "metadata": {},
          "execution_count": 16
        }
      ]
    },
    {
      "cell_type": "code",
      "metadata": {
        "id": "YlS8cMEb0gdq",
        "colab": {
          "base_uri": "https://localhost:8080/"
        },
        "outputId": "9381a0d5-7c2f-4309-ba49-29cd96974182"
      },
      "source": [
        "mat_b"
      ],
      "execution_count": null,
      "outputs": [
        {
          "output_type": "execute_result",
          "data": {
            "text/plain": [
              "array([0, 1, 2])"
            ]
          },
          "metadata": {},
          "execution_count": 17
        }
      ]
    },
    {
      "cell_type": "code",
      "metadata": {
        "id": "63rBcVdz0k7j",
        "colab": {
          "base_uri": "https://localhost:8080/"
        },
        "outputId": "d123238e-5c82-4223-af1b-847f99c5623a"
      },
      "source": [
        "mat_a + mat_b"
      ],
      "execution_count": null,
      "outputs": [
        {
          "output_type": "execute_result",
          "data": {
            "text/plain": [
              "array([[[ 0,  1,  2]],\n",
              "\n",
              "       [[10, 11, 12]],\n",
              "\n",
              "       [[20, 21, 22]],\n",
              "\n",
              "       [[30, 31, 32]]])"
            ]
          },
          "metadata": {},
          "execution_count": 18
        }
      ]
    },
    {
      "cell_type": "markdown",
      "metadata": {
        "id": "DUCCG35QOdh6"
      },
      "source": [
        "The broadcasting rules can be summarized as:\n",
        "\n",
        "Arrays do not need to have the same number of dimensions. For example, if you have a 256x256x3 array of RGB values, and you want to scale each color in the image by a different value, you can multiply the image by a one-dimensional array with 3 values. Lining up the sizes of the trailing axes of these arrays according to the broadcast rules, shows that they are compatible:\n",
        "\n",
        "> ```\n",
        "Image  (3d array): 256 x 256 x 3\n",
        "Scale  (1d array):             3\n",
        "Result (3d array): 256 x 256 x 3\n",
        "```\n",
        "\n",
        "When either of the dimensions compared is one, the other is used. In other words, dimensions with size 1 are stretched or “copied” to match the other. \n",
        "\n",
        "In the following example, both the A and B arrays have axes with length one that are expanded to a larger size during the broadcast operation:\n",
        "\n",
        "> ```\n",
        "A      (4d array):  8 x 1 x 6 x 1\n",
        "B      (3d array):      7 x 1 x 5\n",
        "Result (4d array):  8 x 7 x 6 x 5\n",
        "```\n",
        "\n",
        "\n"
      ]
    },
    {
      "cell_type": "markdown",
      "metadata": {
        "id": "CEoqyPvENsJ7"
      },
      "source": [
        "Considering another example:"
      ]
    },
    {
      "cell_type": "code",
      "metadata": {
        "id": "5Z3UaTCKNsTI"
      },
      "source": [
        "x = np.arange(4)\n",
        "xx = x.reshape(4,1)\n",
        "y = np.ones(5)\n",
        "z = np.ones((3,4))"
      ],
      "execution_count": null,
      "outputs": []
    },
    {
      "cell_type": "code",
      "metadata": {
        "id": "ScEyKKUYQLff",
        "colab": {
          "base_uri": "https://localhost:8080/"
        },
        "outputId": "f8dd629e-30ce-40f9-b998-26c0bdcce290"
      },
      "source": [
        "x.shape"
      ],
      "execution_count": null,
      "outputs": [
        {
          "output_type": "execute_result",
          "data": {
            "text/plain": [
              "(4,)"
            ]
          },
          "metadata": {},
          "execution_count": 20
        }
      ]
    },
    {
      "cell_type": "code",
      "metadata": {
        "id": "odqM0M1gQMcT",
        "colab": {
          "base_uri": "https://localhost:8080/"
        },
        "outputId": "c65efc51-8884-4fde-dc76-1d5936cb4f31"
      },
      "source": [
        "y.shape"
      ],
      "execution_count": null,
      "outputs": [
        {
          "output_type": "execute_result",
          "data": {
            "text/plain": [
              "(5,)"
            ]
          },
          "metadata": {},
          "execution_count": 21
        }
      ]
    },
    {
      "cell_type": "code",
      "metadata": {
        "id": "-oVU8_QhQNlM"
      },
      "source": [
        "# commented the below as it raises error and hence will interrupt \"Run All\" execution\n",
        "# x + y"
      ],
      "execution_count": null,
      "outputs": []
    },
    {
      "cell_type": "code",
      "metadata": {
        "id": "9cg7EV51QNoj",
        "colab": {
          "base_uri": "https://localhost:8080/"
        },
        "outputId": "0f81de27-c54b-4ef1-e766-fe8f21e3588b"
      },
      "source": [
        "xx.shape"
      ],
      "execution_count": null,
      "outputs": [
        {
          "output_type": "execute_result",
          "data": {
            "text/plain": [
              "(4, 1)"
            ]
          },
          "metadata": {},
          "execution_count": 23
        }
      ]
    },
    {
      "cell_type": "code",
      "metadata": {
        "id": "yi_13Es-QTyP",
        "colab": {
          "base_uri": "https://localhost:8080/"
        },
        "outputId": "bfe07c57-a687-4f81-aebc-fef2f00922e6"
      },
      "source": [
        "y.shape"
      ],
      "execution_count": null,
      "outputs": [
        {
          "output_type": "execute_result",
          "data": {
            "text/plain": [
              "(5,)"
            ]
          },
          "metadata": {},
          "execution_count": 24
        }
      ]
    },
    {
      "cell_type": "code",
      "metadata": {
        "id": "XFgAfExsQXJG",
        "colab": {
          "base_uri": "https://localhost:8080/"
        },
        "outputId": "bdeb25ed-3bc0-4a7f-881a-2c4f27f86401"
      },
      "source": [
        "(xx + y).shape"
      ],
      "execution_count": null,
      "outputs": [
        {
          "output_type": "execute_result",
          "data": {
            "text/plain": [
              "(4, 5)"
            ]
          },
          "metadata": {},
          "execution_count": 25
        }
      ]
    },
    {
      "cell_type": "code",
      "metadata": {
        "id": "W9GNZxwgQXMR",
        "colab": {
          "base_uri": "https://localhost:8080/"
        },
        "outputId": "9aa38b0f-857a-4dab-91ce-e9f377fd9c53"
      },
      "source": [
        "xx + y"
      ],
      "execution_count": null,
      "outputs": [
        {
          "output_type": "execute_result",
          "data": {
            "text/plain": [
              "array([[1., 1., 1., 1., 1.],\n",
              "       [2., 2., 2., 2., 2.],\n",
              "       [3., 3., 3., 3., 3.],\n",
              "       [4., 4., 4., 4., 4.]])"
            ]
          },
          "metadata": {},
          "execution_count": 26
        }
      ]
    },
    {
      "cell_type": "code",
      "metadata": {
        "id": "2DGoiuoHQb55",
        "colab": {
          "base_uri": "https://localhost:8080/"
        },
        "outputId": "1ac1986e-eb17-41bd-88f3-0b3d352a09ea"
      },
      "source": [
        "x.shape"
      ],
      "execution_count": null,
      "outputs": [
        {
          "output_type": "execute_result",
          "data": {
            "text/plain": [
              "(4,)"
            ]
          },
          "metadata": {},
          "execution_count": 27
        }
      ]
    },
    {
      "cell_type": "code",
      "metadata": {
        "id": "xFAR862-Qb9W",
        "colab": {
          "base_uri": "https://localhost:8080/"
        },
        "outputId": "19ba0bb3-54cd-483a-a489-231e8d90629b"
      },
      "source": [
        "z.shape"
      ],
      "execution_count": null,
      "outputs": [
        {
          "output_type": "execute_result",
          "data": {
            "text/plain": [
              "(3, 4)"
            ]
          },
          "metadata": {},
          "execution_count": 28
        }
      ]
    },
    {
      "cell_type": "code",
      "metadata": {
        "id": "jj-PArBqQcBV",
        "colab": {
          "base_uri": "https://localhost:8080/"
        },
        "outputId": "2724613a-22f1-4d49-dd31-b2e827546403"
      },
      "source": [
        "(x+z).shape"
      ],
      "execution_count": null,
      "outputs": [
        {
          "output_type": "execute_result",
          "data": {
            "text/plain": [
              "(3, 4)"
            ]
          },
          "metadata": {},
          "execution_count": 29
        }
      ]
    },
    {
      "cell_type": "code",
      "metadata": {
        "id": "4GbF9E62Qi9r",
        "colab": {
          "base_uri": "https://localhost:8080/"
        },
        "outputId": "9f05a9c4-54ee-4785-d818-10e77ec2a7f2"
      },
      "source": [
        "x+z"
      ],
      "execution_count": null,
      "outputs": [
        {
          "output_type": "execute_result",
          "data": {
            "text/plain": [
              "array([[1., 2., 3., 4.],\n",
              "       [1., 2., 3., 4.],\n",
              "       [1., 2., 3., 4.]])"
            ]
          },
          "metadata": {},
          "execution_count": 30
        }
      ]
    },
    {
      "cell_type": "markdown",
      "metadata": {
        "id": "s5AzCqGbfbNl"
      },
      "source": [
        "# Simple maths using two arrays"
      ]
    },
    {
      "cell_type": "code",
      "metadata": {
        "id": "NUoa53yYuJPM",
        "colab": {
          "base_uri": "https://localhost:8080/"
        },
        "outputId": "292eab61-798f-4e33-c3e7-6515380598f4"
      },
      "source": [
        "sample_array = np.array([1, 2])\n",
        "#print(sample_array)\n",
        "ones = np.ones(2, dtype=int)\n",
        "#print(ones)\n",
        "sample_array + ones"
      ],
      "execution_count": null,
      "outputs": [
        {
          "output_type": "execute_result",
          "data": {
            "text/plain": [
              "array([2, 3])"
            ]
          },
          "metadata": {},
          "execution_count": 31
        }
      ]
    },
    {
      "cell_type": "code",
      "metadata": {
        "id": "4BoXaaqjuVAX",
        "colab": {
          "base_uri": "https://localhost:8080/"
        },
        "outputId": "d4daebd4-77ce-4c9e-d5e8-cd19693a051f"
      },
      "source": [
        "sample_array - ones"
      ],
      "execution_count": null,
      "outputs": [
        {
          "output_type": "execute_result",
          "data": {
            "text/plain": [
              "array([0, 1])"
            ]
          },
          "metadata": {},
          "execution_count": 32
        }
      ]
    },
    {
      "cell_type": "code",
      "metadata": {
        "id": "A940athEuX-V",
        "colab": {
          "base_uri": "https://localhost:8080/"
        },
        "outputId": "4441a3d2-52f3-4e94-d773-3289812c70fe"
      },
      "source": [
        "sample_array * sample_array"
      ],
      "execution_count": null,
      "outputs": [
        {
          "output_type": "execute_result",
          "data": {
            "text/plain": [
              "array([1, 4])"
            ]
          },
          "metadata": {},
          "execution_count": 33
        }
      ]
    },
    {
      "cell_type": "code",
      "metadata": {
        "id": "qIAXwNuiuaZn",
        "colab": {
          "base_uri": "https://localhost:8080/"
        },
        "outputId": "1383db1e-789a-4b59-f1db-3a9336538164"
      },
      "source": [
        "sample_array / sample_array"
      ],
      "execution_count": null,
      "outputs": [
        {
          "output_type": "execute_result",
          "data": {
            "text/plain": [
              "array([1., 1.])"
            ]
          },
          "metadata": {},
          "execution_count": 34
        }
      ]
    },
    {
      "cell_type": "code",
      "metadata": {
        "id": "CVizDD7kwq_3",
        "colab": {
          "base_uri": "https://localhost:8080/"
        },
        "outputId": "0adb504c-6795-4500-cf5c-002179934dd0"
      },
      "source": [
        "sample_array * 5"
      ],
      "execution_count": null,
      "outputs": [
        {
          "output_type": "execute_result",
          "data": {
            "text/plain": [
              "array([ 5, 10])"
            ]
          },
          "metadata": {},
          "execution_count": 35
        }
      ]
    },
    {
      "cell_type": "markdown",
      "metadata": {
        "id": "v0WLCWgrfrYB"
      },
      "source": [
        "Some other operations"
      ]
    },
    {
      "cell_type": "code",
      "metadata": {
        "id": "iJKiscvufol5",
        "colab": {
          "base_uri": "https://localhost:8080/"
        },
        "outputId": "08aff4c8-56fe-41f2-c5ff-05b4e59c4ad7"
      },
      "source": [
        "# calculate sine\n",
        "np.sin(arr)"
      ],
      "execution_count": null,
      "outputs": [
        {
          "output_type": "execute_result",
          "data": {
            "text/plain": [
              "array([ 0.84147098,  0.90929743,  0.14112001, -0.7568025 , -0.95892427])"
            ]
          },
          "metadata": {},
          "execution_count": 36
        }
      ]
    },
    {
      "cell_type": "code",
      "metadata": {
        "id": "tVlBSl3Efoq3",
        "colab": {
          "base_uri": "https://localhost:8080/"
        },
        "outputId": "d133118f-9500-4270-8d5d-8e782446f624"
      },
      "source": [
        "# calculate cosine\n",
        "np.cos(arr)"
      ],
      "execution_count": null,
      "outputs": [
        {
          "output_type": "execute_result",
          "data": {
            "text/plain": [
              "array([ 0.54030231, -0.41614684, -0.9899925 , -0.65364362,  0.28366219])"
            ]
          },
          "metadata": {},
          "execution_count": 37
        }
      ]
    },
    {
      "cell_type": "markdown",
      "metadata": {
        "id": "49YipB4mwxUO"
      },
      "source": [
        "# Advanced Array Operations\n",
        "\n",
        "* Maximum\n",
        "* Minimum\n",
        "* Sum\n",
        "* Mean\n",
        "* Product\n",
        "* Standard Deviation"
      ]
    },
    {
      "cell_type": "code",
      "metadata": {
        "id": "UMN6DPi9w1Qu",
        "colab": {
          "base_uri": "https://localhost:8080/"
        },
        "outputId": "f61fa515-9824-4b6f-c26b-07d9eed5244e"
      },
      "source": [
        "# Lets define a sample array first\n",
        "sample_array = np.array([1, 3, 5, 10, 2, 7, 4])\n",
        "print(sample_array)"
      ],
      "execution_count": null,
      "outputs": [
        {
          "output_type": "stream",
          "name": "stdout",
          "text": [
            "[ 1  3  5 10  2  7  4]\n"
          ]
        }
      ]
    },
    {
      "cell_type": "markdown",
      "metadata": {
        "id": "EgRXNpFmyPGP"
      },
      "source": [
        "Finding the maximum of the array"
      ]
    },
    {
      "cell_type": "code",
      "metadata": {
        "id": "MFWoMONbyE75",
        "colab": {
          "base_uri": "https://localhost:8080/"
        },
        "outputId": "7390568c-c8a5-46b7-9616-fa6290be8676"
      },
      "source": [
        "sample_array.max()"
      ],
      "execution_count": null,
      "outputs": [
        {
          "output_type": "execute_result",
          "data": {
            "text/plain": [
              "10"
            ]
          },
          "metadata": {},
          "execution_count": 39
        }
      ]
    },
    {
      "cell_type": "markdown",
      "metadata": {
        "id": "o5JRsj2dyXAg"
      },
      "source": [
        "Finding the minimum of the array"
      ]
    },
    {
      "cell_type": "code",
      "metadata": {
        "id": "cq7NJo9JyYru",
        "colab": {
          "base_uri": "https://localhost:8080/"
        },
        "outputId": "f5c3503d-3b0a-44b6-fef4-566907125f2e"
      },
      "source": [
        "sample_array.min()"
      ],
      "execution_count": null,
      "outputs": [
        {
          "output_type": "execute_result",
          "data": {
            "text/plain": [
              "1"
            ]
          },
          "metadata": {},
          "execution_count": 40
        }
      ]
    },
    {
      "cell_type": "markdown",
      "metadata": {
        "id": "Bownw3PFycpP"
      },
      "source": [
        "Finding the sum of the array"
      ]
    },
    {
      "cell_type": "code",
      "metadata": {
        "id": "1qtmLQApyfIZ",
        "colab": {
          "base_uri": "https://localhost:8080/"
        },
        "outputId": "7fc89faf-0881-4c6d-9df0-19924b1e6eb8"
      },
      "source": [
        "sample_array.sum()"
      ],
      "execution_count": null,
      "outputs": [
        {
          "output_type": "execute_result",
          "data": {
            "text/plain": [
              "32"
            ]
          },
          "metadata": {},
          "execution_count": 41
        }
      ]
    },
    {
      "cell_type": "markdown",
      "metadata": {
        "id": "YANQtksVyjx1"
      },
      "source": [
        "Finding the mean of the array"
      ]
    },
    {
      "cell_type": "code",
      "metadata": {
        "id": "GjQ6v-CZyjC-",
        "colab": {
          "base_uri": "https://localhost:8080/"
        },
        "outputId": "a4d27f84-8282-4569-a0a4-9c985150edaa"
      },
      "source": [
        "sample_array.mean()"
      ],
      "execution_count": null,
      "outputs": [
        {
          "output_type": "execute_result",
          "data": {
            "text/plain": [
              "4.571428571428571"
            ]
          },
          "metadata": {},
          "execution_count": 42
        }
      ]
    },
    {
      "cell_type": "code",
      "metadata": {
        "id": "jMUVXfjSzCZf",
        "colab": {
          "base_uri": "https://localhost:8080/"
        },
        "outputId": "31966df7-1b60-44d2-f7ae-4bfa47cd0273"
      },
      "source": [
        "# prod will multiply all the elements\n",
        "sample_array.prod()"
      ],
      "execution_count": null,
      "outputs": [
        {
          "output_type": "execute_result",
          "data": {
            "text/plain": [
              "8400"
            ]
          },
          "metadata": {},
          "execution_count": 43
        }
      ]
    },
    {
      "cell_type": "markdown",
      "metadata": {
        "id": "WwZyXUkozHYF"
      },
      "source": [
        "### Operations on 2D arrays\n",
        "\n",
        "Lets declare a sample 2D array"
      ]
    },
    {
      "cell_type": "code",
      "metadata": {
        "id": "I454gMBrzSBs",
        "colab": {
          "base_uri": "https://localhost:8080/"
        },
        "outputId": "ae994adc-ed84-4cdd-e751-ce21c69a89c8"
      },
      "source": [
        "sample_2darray = np.array([[1 , 2, 3, 4], [5, 6, 7, 8], [9, 10, 11, 12]])\n",
        "print(sample_2darray)"
      ],
      "execution_count": null,
      "outputs": [
        {
          "output_type": "stream",
          "name": "stdout",
          "text": [
            "[[ 1  2  3  4]\n",
            " [ 5  6  7  8]\n",
            " [ 9 10 11 12]]\n"
          ]
        }
      ]
    },
    {
      "cell_type": "markdown",
      "metadata": {
        "id": "Ygvr4i_c0I4e"
      },
      "source": [
        "### Find the minimum value within the array"
      ]
    },
    {
      "cell_type": "code",
      "metadata": {
        "id": "seaGSTtjzsmZ",
        "colab": {
          "base_uri": "https://localhost:8080/"
        },
        "outputId": "bccb24ad-e18c-4448-8522-25328bd5d478"
      },
      "source": [
        "sample_2darray.min()"
      ],
      "execution_count": null,
      "outputs": [
        {
          "output_type": "execute_result",
          "data": {
            "text/plain": [
              "1"
            ]
          },
          "metadata": {},
          "execution_count": 45
        }
      ]
    },
    {
      "cell_type": "markdown",
      "metadata": {
        "id": "4NoiSmYe0Fcd"
      },
      "source": [
        "### Find the minimum value within each row"
      ]
    },
    {
      "cell_type": "code",
      "metadata": {
        "id": "X57UfiD_zxOX",
        "colab": {
          "base_uri": "https://localhost:8080/"
        },
        "outputId": "5b59b221-9795-4d30-8b22-6d80b9cc9a37"
      },
      "source": [
        "sample_2darray.min(axis=1)"
      ],
      "execution_count": null,
      "outputs": [
        {
          "output_type": "execute_result",
          "data": {
            "text/plain": [
              "array([1, 5, 9])"
            ]
          },
          "metadata": {},
          "execution_count": 46
        }
      ]
    },
    {
      "cell_type": "markdown",
      "metadata": {
        "id": "ZLwtkxsI0ALP"
      },
      "source": [
        "### Find the minimum value within each column"
      ]
    },
    {
      "cell_type": "code",
      "metadata": {
        "id": "oVFtYd8mz0im",
        "colab": {
          "base_uri": "https://localhost:8080/"
        },
        "outputId": "079a062b-9ba1-4cd5-96e5-2f7d08f79ef5"
      },
      "source": [
        "sample_2darray.min(axis=0)"
      ],
      "execution_count": null,
      "outputs": [
        {
          "output_type": "execute_result",
          "data": {
            "text/plain": [
              "array([1, 2, 3, 4])"
            ]
          },
          "metadata": {},
          "execution_count": 47
        }
      ]
    },
    {
      "cell_type": "markdown",
      "metadata": {
        "id": "gHc4vVYSBZ_n"
      },
      "source": [
        "# File input and output with arrays\n"
      ]
    },
    {
      "cell_type": "markdown",
      "metadata": {
        "id": "YY0DT_SsFp_U"
      },
      "source": [
        "## Saving a NumPy array"
      ]
    },
    {
      "cell_type": "code",
      "metadata": {
        "id": "Mln3t-_d3ZfI",
        "colab": {
          "base_uri": "https://localhost:8080/"
        },
        "outputId": "0883f734-fe67-40f5-f019-91618644ce69"
      },
      "source": [
        "sample_array = np.arange(10)\n",
        "np.save('filename', sample_array) # filename is the name of the array being saved\n",
        "print(sample_array)"
      ],
      "execution_count": null,
      "outputs": [
        {
          "output_type": "stream",
          "name": "stdout",
          "text": [
            "[0 1 2 3 4 5 6 7 8 9]\n"
          ]
        }
      ]
    },
    {
      "cell_type": "markdown",
      "metadata": {
        "id": "XaaBJdf9FwDs"
      },
      "source": [
        "Loading a saved NumPy array (extension `.npy`)"
      ]
    },
    {
      "cell_type": "code",
      "metadata": {
        "id": "K6cm_ERkFZLB",
        "colab": {
          "base_uri": "https://localhost:8080/"
        },
        "outputId": "9890a9cc-3bd1-4e1f-f595-d75366f8acf3"
      },
      "source": [
        "loaded_array = np.load('filename.npy')\n",
        "print(loaded_array)"
      ],
      "execution_count": null,
      "outputs": [
        {
          "output_type": "stream",
          "name": "stdout",
          "text": [
            "[0 1 2 3 4 5 6 7 8 9]\n"
          ]
        }
      ]
    },
    {
      "cell_type": "markdown",
      "metadata": {
        "id": "UeQpzc9GGW8h"
      },
      "source": [
        "Saving a NumPy array as a plain text file (.csv or .txt) file with `np.savetxt`.\n",
        "\n",
        "With `savetxt` command, one can specify headers, footers, comments, and more"
      ]
    },
    {
      "cell_type": "code",
      "metadata": {
        "id": "oFTDmcHzF1fP"
      },
      "source": [
        "np.savetxt('file.csv', sample_array)"
      ],
      "execution_count": null,
      "outputs": []
    },
    {
      "cell_type": "markdown",
      "metadata": {
        "id": "zEjS850NHsWd"
      },
      "source": [
        "Loading the save csv file"
      ]
    },
    {
      "cell_type": "code",
      "metadata": {
        "id": "e-s05NE1GqhH",
        "colab": {
          "base_uri": "https://localhost:8080/"
        },
        "outputId": "0523d373-0814-4132-b62c-7b56f663b849"
      },
      "source": [
        "# Additional optional parameters such as header, footer, and delimiter can be mentioned"
      ],
      "execution_count": null,
      "outputs": [
        {
          "output_type": "execute_result",
          "data": {
            "text/plain": [
              "array([0., 1., 2., 3., 4., 5., 6., 7., 8., 9.])"
            ]
          },
          "metadata": {},
          "execution_count": 51
        }
      ]
    },
    {
      "cell_type": "code",
      "metadata": {
        "id": "VlfhkAyWIlVM"
      },
      "source": [
        "#np.loadtxt('file.csv', dtype=[('n',int)])"
      ],
      "execution_count": null,
      "outputs": []
    },
    {
      "cell_type": "markdown",
      "metadata": {
        "id": "sPl725IVIcAm"
      },
      "source": [
        "Note: `.npz` and `.npy` are smaller and faster to read while `.csv` and `.txt` files are easier to share and are human-readable."
      ]
    },
    {
      "cell_type": "markdown",
      "metadata": {
        "id": "YmRmwiIWOKhg"
      },
      "source": [
        "## Pseudorandom Number Generation\n",
        "\n",
        "From Wiki: A pseudorandom number generator (PRNG), also known as a deterministic random bit generator (DRBG), is an algorithm for generating a sequence of numbers whose properties approximate the properties of sequences of random numbers."
      ]
    },
    {
      "cell_type": "code",
      "metadata": {
        "id": "oMJA3odFOYqP",
        "colab": {
          "base_uri": "https://localhost:8080/"
        },
        "outputId": "d2b556b4-f610-4293-c693-d02302371516"
      },
      "source": [
        "pseudo_randNum = np.random.normal(size=(4, 4))\n",
        "print(pseudo_randNum)"
      ],
      "execution_count": null,
      "outputs": [
        {
          "output_type": "stream",
          "name": "stdout",
          "text": [
            "[[-1.33170267 -1.14190556 -1.02896032  0.44756706]\n",
            " [ 0.17904771  0.37649878  0.51969614  0.47458915]\n",
            " [ 1.04251051 -0.4140032   0.07236861  0.70799101]\n",
            " [-0.3416742   1.20642454  0.15293653  0.24437272]]\n"
          ]
        }
      ]
    },
    {
      "cell_type": "markdown",
      "metadata": {
        "id": "Wr_Vq9lyWSUg"
      },
      "source": [
        "The pseudorandom generated depends on the `seed` of the random number generator.\n",
        "\n",
        "The `seed` can be changed using:"
      ]
    },
    {
      "cell_type": "code",
      "metadata": {
        "id": "Iw2KWZtqSeW0"
      },
      "source": [
        "np.random.seed(1234)"
      ],
      "execution_count": null,
      "outputs": []
    },
    {
      "cell_type": "markdown",
      "metadata": {
        "id": "4ygftSs5XwRL"
      },
      "source": [
        "`numpy.random` use a global random seed.\n",
        "To create a random number generator (isolated from others) use:\n"
      ]
    },
    {
      "cell_type": "code",
      "metadata": {
        "id": "xAua9uTxSqeX",
        "colab": {
          "base_uri": "https://localhost:8080/"
        },
        "outputId": "58cf5d75-f8b6-470e-bf51-87ccbd9c30a4"
      },
      "source": [
        "local_RNG = np.random.RandomState(1234)\n",
        "local_RNG.randn(10)"
      ],
      "execution_count": null,
      "outputs": [
        {
          "output_type": "execute_result",
          "data": {
            "text/plain": [
              "array([ 0.47143516, -1.19097569,  1.43270697, -0.3126519 , -0.72058873,\n",
              "        0.88716294,  0.85958841, -0.6365235 ,  0.01569637, -2.24268495])"
            ]
          },
          "metadata": {},
          "execution_count": 55
        }
      ]
    },
    {
      "cell_type": "markdown",
      "metadata": {
        "id": "oLqaQCmZYLuy"
      },
      "source": [
        "*Note*: In many machine learning course, this is used widely to make sure that the results are reproducible as the random number generated is the same when the seed is mentioned explicitly."
      ]
    },
    {
      "cell_type": "markdown",
      "metadata": {
        "id": "Zlj39kzUZSGZ"
      },
      "source": [
        "## Linear Algebra\n",
        "\n",
        "The libarary in NumPy for linear algebra is `linalg`\n",
        "\n",
        "Specific functions can be imported as: `from numpy.linalg import inv, qr`"
      ]
    },
    {
      "cell_type": "code",
      "metadata": {
        "id": "AB6en-bIZShI"
      },
      "source": [
        "# Declare a sample arrary\n",
        "sample_2darray = np.array([[1.0, 2.0], [3.0, 4.0]])"
      ],
      "execution_count": null,
      "outputs": []
    },
    {
      "cell_type": "markdown",
      "metadata": {
        "id": "XCo7kYh-ccCL"
      },
      "source": [
        "(Recall) Matrix transpose"
      ]
    },
    {
      "cell_type": "code",
      "metadata": {
        "id": "3iMHA2xxccL6",
        "colab": {
          "base_uri": "https://localhost:8080/"
        },
        "outputId": "72766d7e-df7d-4f0e-f8ae-4e838721f583"
      },
      "source": [
        "sample_2darray.transpose()"
      ],
      "execution_count": null,
      "outputs": [
        {
          "output_type": "execute_result",
          "data": {
            "text/plain": [
              "array([[1., 3.],\n",
              "       [2., 4.]])"
            ]
          },
          "metadata": {},
          "execution_count": 57
        }
      ]
    },
    {
      "cell_type": "markdown",
      "metadata": {
        "id": "pwo7Z05gcl9y"
      },
      "source": [
        "### Inverse of Matrix"
      ]
    },
    {
      "cell_type": "code",
      "metadata": {
        "id": "LhVBEEa9cmFv",
        "colab": {
          "base_uri": "https://localhost:8080/"
        },
        "outputId": "dbcb4423-3f72-4de7-96f6-86f31075c44e"
      },
      "source": [
        "np.linalg.inv(sample_2darray)"
      ],
      "execution_count": null,
      "outputs": [
        {
          "output_type": "execute_result",
          "data": {
            "text/plain": [
              "array([[-2. ,  1. ],\n",
              "       [ 1.5, -0.5]])"
            ]
          },
          "metadata": {},
          "execution_count": 58
        }
      ]
    },
    {
      "cell_type": "markdown",
      "metadata": {
        "id": "o8RG1WvZcmt5"
      },
      "source": [
        "Defining an identity matrix"
      ]
    },
    {
      "cell_type": "code",
      "metadata": {
        "id": "wVwh-Hrycm3J",
        "colab": {
          "base_uri": "https://localhost:8080/"
        },
        "outputId": "c2153366-2b34-49bf-c4e6-32b4092ccb24"
      },
      "source": [
        "IdentityMat = np.eye(2)  # 2x2 identity matrix\n",
        "print(IdentityMat)"
      ],
      "execution_count": null,
      "outputs": [
        {
          "output_type": "stream",
          "name": "stdout",
          "text": [
            "[[1. 0.]\n",
            " [0. 1.]]\n"
          ]
        }
      ]
    },
    {
      "cell_type": "markdown",
      "metadata": {
        "id": "_2L5XIqHc_bK"
      },
      "source": [
        "### Trace of a Matrix\n",
        "\n",
        "In linear algebra, the trace of a square matrix A, denoted tr, is defined to be the sum of elements on the main diagonal of A."
      ]
    },
    {
      "cell_type": "code",
      "metadata": {
        "id": "5Rmkvmutc_jq",
        "colab": {
          "base_uri": "https://localhost:8080/"
        },
        "outputId": "2ceea16b-e98c-4fe7-9946-744d033eefc9"
      },
      "source": [
        "np.trace(sample_2darray)"
      ],
      "execution_count": null,
      "outputs": [
        {
          "output_type": "execute_result",
          "data": {
            "text/plain": [
              "5.0"
            ]
          },
          "metadata": {},
          "execution_count": 60
        }
      ]
    },
    {
      "cell_type": "markdown",
      "metadata": {
        "id": "D1CAxAIfg1eV"
      },
      "source": [
        "## Matrix Multiplication"
      ]
    },
    {
      "cell_type": "code",
      "metadata": {
        "id": "3aWIyoQCf7g9",
        "colab": {
          "base_uri": "https://localhost:8080/"
        },
        "outputId": "c186f2ac-6116-4537-d8f4-f64dc6f3f1bb"
      },
      "source": [
        "# define a 3x4 matrix\n",
        "arr_a = np.ones((3,4))\n",
        "print(arr_a)"
      ],
      "execution_count": null,
      "outputs": [
        {
          "output_type": "stream",
          "name": "stdout",
          "text": [
            "[[1. 1. 1. 1.]\n",
            " [1. 1. 1. 1.]\n",
            " [1. 1. 1. 1.]]\n"
          ]
        }
      ]
    },
    {
      "cell_type": "code",
      "metadata": {
        "id": "V5cc5kYbgPJI",
        "colab": {
          "base_uri": "https://localhost:8080/"
        },
        "outputId": "a7b2109e-61e4-4050-eaf4-1dc8acfabca9"
      },
      "source": [
        "# define a 4x3 matrix - remember matrix multiplication properties\n",
        "arr_b = np.ones((4,3))\n",
        "print(arr_b)"
      ],
      "execution_count": null,
      "outputs": [
        {
          "output_type": "stream",
          "name": "stdout",
          "text": [
            "[[1. 1. 1.]\n",
            " [1. 1. 1.]\n",
            " [1. 1. 1.]\n",
            " [1. 1. 1.]]\n"
          ]
        }
      ]
    },
    {
      "cell_type": "code",
      "metadata": {
        "id": "Avoz7DMmgf7N",
        "colab": {
          "base_uri": "https://localhost:8080/"
        },
        "outputId": "776aea02-3146-4d11-af1f-6ff0176fd9fb"
      },
      "source": [
        "# multiple both matrix\n",
        "np.matmul(arr_a, arr_b)"
      ],
      "execution_count": null,
      "outputs": [
        {
          "output_type": "execute_result",
          "data": {
            "text/plain": [
              "array([[4., 4., 4.],\n",
              "       [4., 4., 4.],\n",
              "       [4., 4., 4.]])"
            ]
          },
          "metadata": {},
          "execution_count": 63
        }
      ]
    },
    {
      "cell_type": "code",
      "metadata": {
        "colab": {
          "base_uri": "https://localhost:8080/"
        },
        "id": "KvY1xdhf6KkQ",
        "outputId": "7db860b0-bd0e-45b1-8b8e-d6d5e3402fe5"
      },
      "source": [
        "# The @ operator can be used as a shorthand for np.matmul on ndarrays.\n",
        "arr_a @ arr_b"
      ],
      "execution_count": null,
      "outputs": [
        {
          "output_type": "execute_result",
          "data": {
            "text/plain": [
              "array([[4., 4., 4.],\n",
              "       [4., 4., 4.],\n",
              "       [4., 4., 4.]])"
            ]
          },
          "metadata": {},
          "execution_count": 87
        }
      ]
    },
    {
      "cell_type": "markdown",
      "metadata": {
        "id": "mDzgS5Cuc_C8"
      },
      "source": [
        "Matrix Product"
      ]
    },
    {
      "cell_type": "code",
      "metadata": {
        "id": "8_pjwXlAc_QK",
        "colab": {
          "base_uri": "https://localhost:8080/"
        },
        "outputId": "2a6b0b7e-2e24-495c-ffd0-e195f0562ac0"
      },
      "source": [
        "sample_2darray @ sample_2darray"
      ],
      "execution_count": null,
      "outputs": [
        {
          "output_type": "execute_result",
          "data": {
            "text/plain": [
              "array([[ 7., 10.],\n",
              "       [15., 22.]])"
            ]
          },
          "metadata": {},
          "execution_count": 64
        }
      ]
    },
    {
      "cell_type": "markdown",
      "metadata": {
        "id": "1zcaNhkLZotR"
      },
      "source": [
        "\n",
        "# Introduction to Scipy\n",
        "\n",
        "The scipy package contains various toolboxes dedicated to common issues in scientific computing.\n",
        "\n",
        "Its different submodules correspond to different applications, such as interpolation, integration, optimization, image processing, statistics, special functions, etc.\n",
        "\n",
        "scipy is the core package for scientific routines in Python. \n",
        "\n",
        "It is meant to operate efficiently on numpy arrays, so that numpy and scipy work hand in hand.\n",
        "\n",
        "![NumPy Broadcasting ](https://drive.google.com/uc?export=view&id=1EC9ZMrmt7GeFQNyggz5LeQeMcYuBLSn_)"
      ]
    },
    {
      "cell_type": "markdown",
      "metadata": {
        "id": "EmwUtko4eEcq"
      },
      "source": [
        "The notes and examples are from Chapter 6 of official scipy tutorial notes available [here](http://scipy-lectures.org/_downloads/ScipyLectures.pdf) (version: 2020 Edition)."
      ]
    },
    {
      "cell_type": "code",
      "metadata": {
        "id": "qxPk00X_ZsFd"
      },
      "source": [
        "import numpy as np"
      ],
      "execution_count": null,
      "outputs": []
    },
    {
      "cell_type": "markdown",
      "metadata": {
        "id": "6SDoMqKmYcii"
      },
      "source": [
        "The module `scipy.stats` contains statistical tools and probabilistic descriptions of random processes. Random number generators for various random process can be found in `numpy.random`"
      ]
    },
    {
      "cell_type": "code",
      "metadata": {
        "id": "H_MMYunDYcrC"
      },
      "source": [
        "from scipy import stats"
      ],
      "execution_count": null,
      "outputs": []
    },
    {
      "cell_type": "markdown",
      "metadata": {
        "id": "KPvkM5i9Yc71"
      },
      "source": [
        "## Distributions: histogram and probability density function\n",
        "\n",
        "Section 6.6.1 in ScipyLectures"
      ]
    },
    {
      "cell_type": "code",
      "metadata": {
        "id": "K17pcTt8YdGL",
        "colab": {
          "base_uri": "https://localhost:8080/"
        },
        "outputId": "e0540b94-321b-453c-da21-2223251218e2"
      },
      "source": [
        "samples = np.random.normal(size=1000)\n",
        "#print(samples)\n",
        "bins = np.arange(-4, 5)\n",
        "bins"
      ],
      "execution_count": null,
      "outputs": [
        {
          "output_type": "execute_result",
          "data": {
            "text/plain": [
              "array([-4, -3, -2, -1,  0,  1,  2,  3,  4])"
            ]
          },
          "metadata": {},
          "execution_count": 92
        }
      ]
    },
    {
      "cell_type": "code",
      "metadata": {
        "id": "w7KklxonZXba"
      },
      "source": [
        "histogram = np.histogram(samples, bins=bins, density=True)[0]\n",
        "bins = 0.5*(bins[1:] + bins[:-1])"
      ],
      "execution_count": null,
      "outputs": []
    },
    {
      "cell_type": "code",
      "metadata": {
        "id": "zmuLFgsDXjFq",
        "colab": {
          "base_uri": "https://localhost:8080/"
        },
        "outputId": "39b4524b-9b95-49e3-aa85-ce0181488559"
      },
      "source": [
        "histogram"
      ],
      "execution_count": null,
      "outputs": [
        {
          "output_type": "execute_result",
          "data": {
            "text/plain": [
              "array([0.001, 0.022, 0.119, 0.351, 0.355, 0.127, 0.025, 0.   ])"
            ]
          },
          "metadata": {},
          "execution_count": 69
        }
      ]
    },
    {
      "cell_type": "code",
      "metadata": {
        "id": "wklivwZvY74E"
      },
      "source": [
        "#pdf = stats.norm.pdf(bins) # norm is a distribution object"
      ],
      "execution_count": null,
      "outputs": []
    },
    {
      "cell_type": "code",
      "metadata": {
        "id": "BQApYXAcY7-N",
        "colab": {
          "base_uri": "https://localhost:8080/",
          "height": 282
        },
        "outputId": "989cc926-268b-48f3-8dab-4372aed18b62"
      },
      "source": [
        "from matplotlib import pyplot as plt\n",
        "plt.plot(bins, histogram)"
      ],
      "execution_count": null,
      "outputs": [
        {
          "output_type": "execute_result",
          "data": {
            "text/plain": [
              "[<matplotlib.lines.Line2D at 0x7f233ce49390>]"
            ]
          },
          "metadata": {},
          "execution_count": 71
        },
        {
          "output_type": "display_data",
          "data": {
            "image/png": "[encoded data removed]",
            "text/plain": [
              "<Figure size 432x288 with 1 Axes>"
            ]
          },
          "metadata": {
            "needs_background": "light"
          }
        }
      ]
    },
    {
      "cell_type": "code",
      "metadata": {
        "id": "trFWrwzyY78B",
        "colab": {
          "base_uri": "https://localhost:8080/"
        },
        "outputId": "2c6b2811-e3a4-465f-c1cf-43c3f30cd40c"
      },
      "source": [
        "# calculate mean\n",
        "np.mean(samples)"
      ],
      "execution_count": null,
      "outputs": [
        {
          "output_type": "execute_result",
          "data": {
            "text/plain": [
              "0.01574058215376203"
            ]
          },
          "metadata": {},
          "execution_count": 72
        }
      ]
    },
    {
      "cell_type": "code",
      "metadata": {
        "id": "xi3EfnfeaR3i",
        "colab": {
          "base_uri": "https://localhost:8080/"
        },
        "outputId": "cb24d030-9128-47d4-c36e-f236eea34303"
      },
      "source": [
        "# calculate median\n",
        "np.median(samples)"
      ],
      "execution_count": null,
      "outputs": [
        {
          "output_type": "execute_result",
          "data": {
            "text/plain": [
              "0.017760892395545097"
            ]
          },
          "metadata": {},
          "execution_count": 73
        }
      ]
    },
    {
      "cell_type": "markdown",
      "metadata": {
        "id": "cuzuc-s9ayD9"
      },
      "source": [
        "The median is also the percentile 50, because 50% of the observation are below it:\n"
      ]
    },
    {
      "cell_type": "code",
      "metadata": {
        "id": "AO_cTGI2aR6_",
        "colab": {
          "base_uri": "https://localhost:8080/"
        },
        "outputId": "9ee38ceb-c27d-4857-9883-4487e265538b"
      },
      "source": [
        "# calculate percentiles\n",
        "stats.scoreatpercentile(samples,50)"
      ],
      "execution_count": null,
      "outputs": [
        {
          "output_type": "execute_result",
          "data": {
            "text/plain": [
              "0.017760892395545097"
            ]
          },
          "metadata": {},
          "execution_count": 74
        }
      ]
    },
    {
      "cell_type": "code",
      "metadata": {
        "id": "wcPOa4xla0uu",
        "colab": {
          "base_uri": "https://localhost:8080/"
        },
        "outputId": "0b65b67b-d677-4c0f-a917-4b6d03b70004"
      },
      "source": [
        "# similarly, we can calculate 90 percentile\n",
        "stats.scoreatpercentile(samples,50)"
      ],
      "execution_count": null,
      "outputs": [
        {
          "output_type": "execute_result",
          "data": {
            "text/plain": [
              "0.017760892395545097"
            ]
          },
          "metadata": {},
          "execution_count": 75
        }
      ]
    },
    {
      "cell_type": "code",
      "metadata": {
        "id": "IOmRjga4a0sR",
        "colab": {
          "base_uri": "https://localhost:8080/"
        },
        "outputId": "b0174c89-c691-474e-e355-e7c72249921d"
      },
      "source": [
        "stats.scoreatpercentile(samples,90)"
      ],
      "execution_count": null,
      "outputs": [
        {
          "output_type": "execute_result",
          "data": {
            "text/plain": [
              "1.3003779670735938"
            ]
          },
          "metadata": {},
          "execution_count": 76
        }
      ]
    },
    {
      "cell_type": "markdown",
      "metadata": {
        "id": "doLhFG4CZ6ky"
      },
      "source": [
        "## Linear algebra operations: `scipy.linalg`"
      ]
    },
    {
      "cell_type": "markdown",
      "metadata": {
        "id": "t1-9jraciGT7"
      },
      "source": [
        "The scipy.linalg module provides standard linear algebra operations, relying on an underlying efficient implementation (BLAS, LAPACK)."
      ]
    },
    {
      "cell_type": "code",
      "metadata": {
        "id": "1tuCfqgmaZEq"
      },
      "source": [
        "from scipy import linalg\n",
        "arr = np.array([[1, 2],\n",
        "                [3, 4]])"
      ],
      "execution_count": null,
      "outputs": []
    },
    {
      "cell_type": "markdown",
      "metadata": {
        "id": "4xHNXQNMiTCd"
      },
      "source": [
        "The `scipy.linalg.det()` function computes the determinant of a square matrix:"
      ]
    },
    {
      "cell_type": "code",
      "metadata": {
        "id": "7BHHuoUDiSdb",
        "colab": {
          "base_uri": "https://localhost:8080/"
        },
        "outputId": "f0c10c4e-84c3-4b95-d4ea-4d0853a39f32"
      },
      "source": [
        "linalg.det(arr)"
      ],
      "execution_count": null,
      "outputs": [
        {
          "output_type": "execute_result",
          "data": {
            "text/plain": [
              "-2.0"
            ]
          },
          "metadata": {},
          "execution_count": 78
        }
      ]
    },
    {
      "cell_type": "code",
      "metadata": {
        "id": "YV7O-sOshHwS",
        "colab": {
          "base_uri": "https://localhost:8080/"
        },
        "outputId": "18e10b5e-a67e-436b-a7d4-5cac279da00e"
      },
      "source": [
        "# similar function in numpy\n",
        "np.linalg.det(arr)"
      ],
      "execution_count": null,
      "outputs": [
        {
          "output_type": "execute_result",
          "data": {
            "text/plain": [
              "-2.0000000000000004"
            ]
          },
          "metadata": {},
          "execution_count": 79
        }
      ]
    },
    {
      "cell_type": "code",
      "metadata": {
        "id": "Hg4fnVp3iVDI",
        "colab": {
          "base_uri": "https://localhost:8080/"
        },
        "outputId": "d0c8f92e-0c08-4d72-91f6-eb4b9d44c3ba"
      },
      "source": [
        "# Another example\n",
        "arr = np.array([[3, 2],\n",
        "                [6, 4]])\n",
        "linalg.det(arr)"
      ],
      "execution_count": null,
      "outputs": [
        {
          "output_type": "execute_result",
          "data": {
            "text/plain": [
              "0.0"
            ]
          },
          "metadata": {},
          "execution_count": 80
        }
      ]
    },
    {
      "cell_type": "markdown",
      "metadata": {
        "id": "tDPVffoni6nL"
      },
      "source": [
        "The `scipy.linalg.inv()` function computes the inverse of a square matrix:"
      ]
    },
    {
      "cell_type": "code",
      "metadata": {
        "id": "DVdoCn0bir_S",
        "colab": {
          "base_uri": "https://localhost:8080/"
        },
        "outputId": "5b113c71-c247-4d18-ce59-93eea618e36b"
      },
      "source": [
        "arr = np.array([[1, 2],\n",
        "                [3, 4]])\n",
        "iarr = linalg.inv(arr)\n",
        "iarr"
      ],
      "execution_count": null,
      "outputs": [
        {
          "output_type": "execute_result",
          "data": {
            "text/plain": [
              "array([[-2. ,  1. ],\n",
              "       [ 1.5, -0.5]])"
            ]
          },
          "metadata": {},
          "execution_count": 81
        }
      ]
    },
    {
      "cell_type": "markdown",
      "metadata": {
        "id": "6lYHtJBmhqEV"
      },
      "source": [
        "This raises the question: What is the difference between NumPy and Scipy?\n",
        "\n",
        "In an ideal world, NumPy would contain nothing but the array data type and the most basic operations: indexing, sorting, reshaping, basic elementwise functions, etc. All numerical code would reside in SciPy. However, one of NumPy’s important goals is compatibility, so NumPy tries to retain all features supported by either of its predecessors. Thus, **NumPy contains some linear algebra functions and Fourier transforms, even though these more properly belong in SciPy**. In any case, SciPy contains more fully-featured versions of the linear algebra modules, as well as many other numerical algorithms. If you are doing scientific computing with Python, you should probably install both NumPy and SciPy. Most new features belong in SciPy rather than NumPy.\n",
        "\n",
        "Source: https://www.scipy.org/scipylib/faq.html#what-is-the-difference-between-numpy-and-scipy\n",
        "\n"
      ]
    },
    {
      "cell_type": "markdown",
      "metadata": {
        "id": "Th661H01jIbb"
      },
      "source": [
        "## Interpolation: `scipy.interpolate`\n",
        "\n",
        "scipy.interpolate is useful for fitting a function from experimental data and thus evaluating points where no measure exists."
      ]
    },
    {
      "cell_type": "code",
      "metadata": {
        "id": "MsqPX70ujShb"
      },
      "source": [
        "measured_time = np.linspace(0, 1, 10)\n",
        "noise = (np.random.random(10)*2 - 1) * 1e-1\n",
        "measures = np.sin(2 * np.pi * measured_time) + noise"
      ],
      "execution_count": null,
      "outputs": []
    },
    {
      "cell_type": "markdown",
      "metadata": {
        "id": "ENi-8jm1jUhU"
      },
      "source": [
        "`scipy.interpolate.interp1d` can build a linear interpolation function:"
      ]
    },
    {
      "cell_type": "code",
      "metadata": {
        "id": "quJdN2zajTC7"
      },
      "source": [
        "from scipy.interpolate import interp1d\n",
        "linear_interp = interp1d(measured_time, measures)"
      ],
      "execution_count": null,
      "outputs": []
    },
    {
      "cell_type": "markdown",
      "metadata": {
        "id": "OOMcWe29jcFC"
      },
      "source": [
        "Then the result can be evaluated at the time of interest:"
      ]
    },
    {
      "cell_type": "code",
      "metadata": {
        "id": "zCfN2eEejcOa"
      },
      "source": [
        "interpolation_time = np.linspace(0, 1, 50)\n",
        "linear_results = linear_interp(interpolation_time)"
      ],
      "execution_count": null,
      "outputs": []
    },
    {
      "cell_type": "markdown",
      "metadata": {
        "id": "Jm-2t6KAjtF8"
      },
      "source": [
        "A cubic interpolation can also be selected by providing the kind optional keyword argument:"
      ]
    },
    {
      "cell_type": "code",
      "metadata": {
        "id": "gLtebL1YjtMW"
      },
      "source": [
        "cubic_interp = interp1d(measured_time, measures, kind='cubic')\n",
        "cubic_results = cubic_interp(interpolation_time)"
      ],
      "execution_count": null,
      "outputs": []
    },
    {
      "cell_type": "markdown",
      "metadata": {
        "id": "Z7DWNplNj1rj"
      },
      "source": [
        "Plot the data and the interpolation"
      ]
    },
    {
      "cell_type": "code",
      "metadata": {
        "id": "xTk2-VMpjcw9",
        "colab": {
          "base_uri": "https://localhost:8080/",
          "height": 265
        },
        "outputId": "66ecda29-7128-44c5-f3d6-e2f597ca2a7b"
      },
      "source": [
        "from matplotlib import pyplot as plt\n",
        "plt.figure(figsize=(6, 4))\n",
        "plt.plot(measured_time, measures, 'o', ms=6, label='measures')\n",
        "plt.plot(interpolation_time, linear_results, label='linear interp')\n",
        "plt.plot(interpolation_time, cubic_results, label='cubic interp')\n",
        "plt.legend()\n",
        "plt.show()"
      ],
      "execution_count": null,
      "outputs": [
        {
          "output_type": "display_data",
          "data": {
            "image/png": "[encoded data removed]",
            "text/plain": [
              "<Figure size 432x288 with 1 Axes>"
            ]
          },
          "metadata": {
            "needs_background": "light"
          }
        }
      ]
    }
  ]
}