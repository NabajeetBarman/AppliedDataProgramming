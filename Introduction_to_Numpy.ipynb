{
  "nbformat": 4,
  "nbformat_minor": 0,
  "metadata": {
    "colab": {
      "name": "Introduction-to-Numpy.ipynb",
      "provenance": [],
      "collapsed_sections": [
        "mFVp6Ppi7BcO",
        "Xp9klN-zUCC2",
        "7HvIf6JKUtXs",
        "-sYQLakwUddx",
        "xiB6tqCAHYai",
        "b_cp4zjRWP4l",
        "zF2CmNWT9Unr",
        "NTbeap9KjePo",
        "RwAj8EvEJSs8",
        "_UomfNmkjAOl",
        "BdMAc-HzqsJz",
        "8_-HNfStri33",
        "49YipB4mwxUO",
        "WwZyXUkozHYF"
      ],
      "toc_visible": true,
      "include_colab_link": true
    },
    "kernelspec": {
      "name": "python3",
      "display_name": "Python 3"
    }
  },
  "cells": [
    {
      "cell_type": "markdown",
      "metadata": {
        "id": "view-in-github",
        "colab_type": "text"
      },
      "source": [
        "<a href=\"https://colab.research.google.com/github/NabajeetBarman/AppliedDataProgramming/blob/main/Introduction_to_Numpy.ipynb\" target=\"_parent\"><img src=\"https://colab.research.google.com/assets/colab-badge.svg\" alt=\"Open In Colab\"/></a>"
      ]
    },
    {
      "cell_type": "markdown",
      "metadata": {
        "id": "vexUxHdOsGXw"
      },
      "source": [
        "# Introduction to NumPy\n",
        "\n",
        "#####################################################################################\n",
        "\n",
        "This Jupyter Notebook is designed for the CI7340 Applied Data Programming\n",
        " Module for the MSc. Data Science degree programm at Kingston University.\n",
        "\n",
        "Parts of this module is borrowed from the official [Numpy Manual v1.21](https://numpy.org/doc/stable/#)\n",
        "\n",
        "A Reference Book for further learning - if interested, [*Guide to Numpy by Travis E. Oliphant*](https://archive.org/details/NumPyBook/mode/2up)\n",
        "\n",
        "Copyright@ *Nabajeet Barman*, Kingston University, London, UK\n",
        "\n",
        "#####################################################################################\n",
        "\n",
        "## Topics Covered:\n",
        "\n",
        "* Introduction to Numpy\n",
        "* Installing NumPy\n",
        "* Initializing a NumPy array\n",
        "* NumPy Operations\n",
        "* Basic Array Operations\n",
        "\n",
        "\n",
        "\n",
        "\n"
      ]
    },
    {
      "cell_type": "markdown",
      "metadata": {
        "id": "yToZskvhAffp"
      },
      "source": [
        "## About Numpy\n",
        "Numpy is short for Numerical Python. \n",
        "\n",
        "NumPy is an Open Source Python Library which is used universally across all fields of science and engineering and is the fundamental package needed for scientific computing with Python. \n",
        "\n",
        "The NumPy package contains:\n",
        "*   A powerful N-dimensional array object (*ndarray*)\n",
        "*   Basic linear algebra functions\n",
        "*   Sophisticated (broadcasting) functions\n",
        "*   Basic Fourier transforms\n",
        "*   Sophisticated random number capabilities\n",
        "*   Tools for integrating Fortran code\n",
        "*   Tools for integrating C/C++ code\n",
        "\n",
        "\n",
        "Interesting paper: https://www.nature.com/articles/s41586-020-2649-2\n"
      ]
    },
    {
      "cell_type": "markdown",
      "metadata": {
        "id": "KCos19ZnpRXG"
      },
      "source": [
        "![Anatomy of a Figure ](https://drive.google.com/uc?export=view&id=1v7AS-0xTof66bhaqaGaTMgGZJg6x9HaF)"
      ]
    },
    {
      "cell_type": "markdown",
      "metadata": {
        "id": "abP0ISPlw0Vj"
      },
      "source": [
        "# Installing NumPy\n",
        "\n",
        "If you already have Python, you can install NumPy with:\n",
        "\n"
      ]
    },
    {
      "cell_type": "code",
      "metadata": {
        "id": "1Ew_Sydyx9sz",
        "colab": {
          "base_uri": "https://localhost:8080/"
        },
        "outputId": "0f40f9d1-83f1-40f1-f45d-9cdede13cb71"
      },
      "source": [
        "!pip install numpy"
      ],
      "execution_count": null,
      "outputs": [
        {
          "output_type": "stream",
          "name": "stdout",
          "text": [
            "Requirement already satisfied: numpy in /usr/local/lib/python3.7/dist-packages (1.19.5)\n"
          ]
        }
      ]
    },
    {
      "cell_type": "markdown",
      "metadata": {
        "id": "Vg3MBCoQyJqd"
      },
      "source": [
        "For installation with conda, one can use `conda install numpy`"
      ]
    },
    {
      "cell_type": "markdown",
      "metadata": {
        "id": "yoIvs8wayVgv"
      },
      "source": [
        "In order to start using NumPy and all of the functions available in NumPy, you’ll need to import it which can be done using the following statement:"
      ]
    },
    {
      "cell_type": "code",
      "metadata": {
        "id": "DQqhiRevyjfS"
      },
      "source": [
        "import numpy as np \n",
        "# We have here shortened numpy as np in order to save time. \n",
        "# This is a convention followed at many places, \n",
        "# and hence readable and udnerstandable to anyone."
      ],
      "execution_count": null,
      "outputs": []
    },
    {
      "cell_type": "markdown",
      "metadata": {
        "id": "EfHhQuFAz9IH"
      },
      "source": [
        "You can add multi line comments here using `Ctrl + /` or using the triple single quotes as shown below. It will be ignored as a doc string within the function.\n",
        "```\n",
        "'''\n",
        "We have here shortened numpy as np in order to save time. \n",
        "This is a convention followed at many places, \n",
        "and hence readable and understandable to anyone.\n",
        "'''\n",
        "```\n",
        "\n"
      ]
    },
    {
      "cell_type": "markdown",
      "metadata": {
        "id": "YwpNmU49gpY5"
      },
      "source": [
        "### What is a NumPy N-Dimensional Array (ndarray)?\n",
        "\n",
        ">* It is an efficient multidimensional array providing fast array-oriented arithmetic operations.\n",
        ">* An ndarray as any other array, it is a container for homogeneous data (Elements of the same type)\n",
        ">* In NumPy, data in an ndarray is simply referred to as an array.\n",
        ">* As with other container objects in Python, the contents of an ndarray can be accessed and modified by indexing or slicing operations.\n",
        ">* For numerical data, NumPy arrays are more efficient for storing and manipulating data than the other built-in Python data structures.\n",
        "\n",
        "### Advantages of NumPy arrays:\n",
        "> * Faster\n",
        "> * More compact\n",
        "> * Consumes less memory\n",
        "> * Convenient to use\n",
        "> * Provides a mechanism of specifying the data types\n",
        "> * Allows the code to be optimized even further"
      ]
    },
    {
      "cell_type": "markdown",
      "metadata": {
        "id": "P4deoyvZ2vzA"
      },
      "source": [
        "### Python list vs NumPy array\n",
        "\n",
        "Datatype: \n",
        "\n",
        ">* Python list - different data types withing a single list\n",
        ">* NumPy array - All elements should be homogeneous\n",
        "\n",
        "Vectorized Operations\n",
        "\n",
        ">* The key difference between an array and a list is, arrays are designed to handle vectorized operations while a python list is not.\n",
        ">* NumPy operations perform complex computations on entire arrays without the need for Python for loops.\n",
        ">* In other words, if you apply a function to an array, it is performed on every item in the array, rather than on the whole array object.\n",
        ">* In a python list, you will have to perform a loop over the elements of the list.\n",
        "\n",
        "Memory\n",
        "\n",
        ">* NumPy internally stores data in a contiguous block of memory, independent of other built-in Python objects.\n",
        ">* NumPy arrays takes significantly less amount of memory as compared to python lists.\n",
        "\n",
        "For more details on Why Python is slow and how NumPy helps overcomes such shortcomings, visit [this](https://jakevdp.github.io/blog/2014/05/09/why-python-is-slow/) blog post by Jake VanderPlas."
      ]
    },
    {
      "cell_type": "markdown",
      "metadata": {
        "id": "XvuUjM3k43mT"
      },
      "source": [
        "### Introduction to Arrays\n",
        "\n",
        "An array is a central data structure of the NumPy library. It is a grid of values and contains information about the raw data, how to locate an element, and how to interpret an element. The elements are all of the same type, referred to as the array `dtype`. \n",
        "\n",
        "> In NumPy, dimensions are called axes.\n",
        "\n",
        "> Array Shape: The shape of the array is a tuple of non-integers that specify the sizes of each dimension.\n",
        "\n",
        "> Indexing: An array can be indexed by a tuple of nonnegative integers, by booleans, by another array, or by integers. \n",
        "\n",
        "> Rank of the array = number of dimensions. \n",
        "\n",
        "### Definition: `ndarray`, `vector`, `matrix` and `Tensor`\n",
        "\n",
        "* ndarray is short for N-dimensional array and is used to represent both Matrices and Vectors\n",
        "\n",
        "* A vector is an array with a single dimension (there’s no difference between row and column vectors), \n",
        "\n",
        "* A matrix refers to an array with two dimensions. \n",
        "\n",
        "* Tensor for 3-D or higher dimensional arrays."
      ]
    },
    {
      "cell_type": "markdown",
      "metadata": {
        "id": "9hqMQ_1u6Nod"
      },
      "source": [
        "# Initializing a NumPy array\n",
        "\n",
        "NumPy arrays can be initialized from Python Lists using the `np.array()` function as:"
      ]
    },
    {
      "cell_type": "code",
      "metadata": {
        "id": "yxHKJC0t6fl0"
      },
      "source": [
        "vec_a = np.array([1, 2, 3, 4, 5, 6])"
      ],
      "execution_count": null,
      "outputs": []
    },
    {
      "cell_type": "markdown",
      "metadata": {
        "id": "3inRsA-arDqa"
      },
      "source": [
        "Remember you can just add a question mark before the command to get help!!!"
      ]
    },
    {
      "cell_type": "code",
      "metadata": {
        "id": "aDVHBx9drD43"
      },
      "source": [
        "?np.array"
      ],
      "execution_count": null,
      "outputs": []
    },
    {
      "cell_type": "code",
      "metadata": {
        "id": "eqL52Hjf6mbR",
        "colab": {
          "base_uri": "https://localhost:8080/"
        },
        "outputId": "fc525eb0-977f-474c-875e-48ad3c30d2d5"
      },
      "source": [
        "vec_a #shows the data type along with contents"
      ],
      "execution_count": null,
      "outputs": [
        {
          "output_type": "execute_result",
          "data": {
            "text/plain": [
              "array([1, 2, 3, 4, 5, 6])"
            ]
          },
          "metadata": {},
          "execution_count": 6
        }
      ]
    },
    {
      "cell_type": "code",
      "metadata": {
        "id": "dX23sDoj8nQn",
        "colab": {
          "base_uri": "https://localhost:8080/"
        },
        "outputId": "db18489d-2869-494c-d656-b42d4f29c673"
      },
      "source": [
        "print(vec_a)  # print the array"
      ],
      "execution_count": null,
      "outputs": [
        {
          "output_type": "stream",
          "name": "stdout",
          "text": [
            "[1 2 3 4 5 6]\n"
          ]
        }
      ]
    },
    {
      "cell_type": "code",
      "metadata": {
        "id": "GXlMx7Uu6vSr"
      },
      "source": [
        "# initializing a 3x3 array\n",
        "arr = np.array([[1, 2, 3], [5, 6, 7], [9, 10, 11]])"
      ],
      "execution_count": null,
      "outputs": []
    },
    {
      "cell_type": "markdown",
      "metadata": {
        "id": "66ikuEoApe9j"
      },
      "source": [
        "Use the above command to define a Matrix (np.matrix is not recommended)"
      ]
    },
    {
      "cell_type": "code",
      "metadata": {
        "id": "P3OwJb1R64af",
        "colab": {
          "base_uri": "https://localhost:8080/"
        },
        "outputId": "e34b7396-75a3-44b3-de63-4735c2764287"
      },
      "source": [
        "arr # shows the data type along with contents"
      ],
      "execution_count": null,
      "outputs": [
        {
          "output_type": "execute_result",
          "data": {
            "text/plain": [
              "array([[ 1,  2,  3],\n",
              "       [ 5,  6,  7],\n",
              "       [ 9, 10, 11]])"
            ]
          },
          "metadata": {},
          "execution_count": 9
        }
      ]
    },
    {
      "cell_type": "code",
      "metadata": {
        "id": "7G87q6cR8v-M",
        "colab": {
          "base_uri": "https://localhost:8080/"
        },
        "outputId": "3d5077cd-5a7f-451c-83d5-2d51cb8c5999"
      },
      "source": [
        "print(arr) # print the array"
      ],
      "execution_count": null,
      "outputs": [
        {
          "output_type": "stream",
          "name": "stdout",
          "text": [
            "[[ 1  2  3]\n",
            " [ 5  6  7]\n",
            " [ 9 10 11]]\n"
          ]
        }
      ]
    },
    {
      "cell_type": "markdown",
      "metadata": {
        "id": "mFVp6Ppi7BcO"
      },
      "source": [
        "###Accessing elements in the array\n",
        "\n",
        "Array elements can be accessed using square brackets.\n",
        "> *Reminder*: Indexing in Python starts from 0."
      ]
    },
    {
      "cell_type": "code",
      "metadata": {
        "id": "RYJStCDg67l7",
        "colab": {
          "base_uri": "https://localhost:8080/"
        },
        "outputId": "ce79daa9-7e2b-4ffa-ae75-b387d4d4a1e5"
      },
      "source": [
        "print(arr[0, 0])"
      ],
      "execution_count": null,
      "outputs": [
        {
          "output_type": "stream",
          "name": "stdout",
          "text": [
            "1\n"
          ]
        }
      ]
    },
    {
      "cell_type": "code",
      "metadata": {
        "id": "r2xRfXo784OL",
        "colab": {
          "base_uri": "https://localhost:8080/"
        },
        "outputId": "a346421d-5360-40b1-8f1b-00de29e5c0b1"
      },
      "source": [
        "arr[1, 1]"
      ],
      "execution_count": null,
      "outputs": [
        {
          "output_type": "execute_result",
          "data": {
            "text/plain": [
              "6"
            ]
          },
          "metadata": {},
          "execution_count": 12
        }
      ]
    },
    {
      "cell_type": "markdown",
      "metadata": {
        "id": "Xp9klN-zUCC2"
      },
      "source": [
        "### Checking the dimensions of the array\n",
        "\n",
        "`ndarray.ndim` will tell you the number of axes, or dimensions, of the array."
      ]
    },
    {
      "cell_type": "code",
      "metadata": {
        "id": "LExsFQEoUIAl",
        "colab": {
          "base_uri": "https://localhost:8080/"
        },
        "outputId": "beb563bf-1d50-4a08-b2b7-00ce3dad392e"
      },
      "source": [
        "arr.ndim"
      ],
      "execution_count": null,
      "outputs": [
        {
          "output_type": "execute_result",
          "data": {
            "text/plain": [
              "2"
            ]
          },
          "metadata": {},
          "execution_count": 13
        }
      ]
    },
    {
      "cell_type": "markdown",
      "metadata": {
        "id": "aot66SAQPBrI"
      },
      "source": [
        "### Checking the shape of the array\n",
        "\n",
        "`ndarray.shape` will display a tuple of integers that indicate the number of elements stored along each dimension of the array. \n",
        "\n",
        "If, for example, you have a 2-D array with 2 rows and 3 columns, the shape of your array is (2, 3)."
      ]
    },
    {
      "cell_type": "code",
      "metadata": {
        "id": "FSN77vJqUYob",
        "colab": {
          "base_uri": "https://localhost:8080/"
        },
        "outputId": "a8517f07-a6aa-485e-a9c8-4398257711ca"
      },
      "source": [
        "# shape of the array\n",
        "arr.shape"
      ],
      "execution_count": null,
      "outputs": [
        {
          "output_type": "execute_result",
          "data": {
            "text/plain": [
              "(3, 3)"
            ]
          },
          "metadata": {},
          "execution_count": 14
        }
      ]
    },
    {
      "cell_type": "markdown",
      "metadata": {
        "id": "7HvIf6JKUtXs"
      },
      "source": [
        "`ndarray.size` will tell you the total number of elements of the array. This is the product of the elements of the array’s shape."
      ]
    },
    {
      "cell_type": "code",
      "metadata": {
        "id": "6ZUkg-TRP7KP",
        "colab": {
          "base_uri": "https://localhost:8080/"
        },
        "outputId": "2b0fddcc-e3d8-49f1-da62-b331f253f990"
      },
      "source": [
        "# number of elements in an array\n",
        "arr.size"
      ],
      "execution_count": null,
      "outputs": [
        {
          "output_type": "execute_result",
          "data": {
            "text/plain": [
              "9"
            ]
          },
          "metadata": {},
          "execution_count": 15
        }
      ]
    },
    {
      "cell_type": "markdown",
      "metadata": {
        "id": "xgbSZbJGEdqf"
      },
      "source": [
        "### NumPy Standard Data Types\n",
        "\n",
        "Every ndarray has an associated data type (dtype) object. This data type object (dtype) informs us about the layout of the array. This means it gives us information about: \n",
        "\n",
        "*   Type of the data (integer, float, Python object, etc.)\n",
        "*   Size of the data (number of bytes)\n",
        "*   The byte order of the data (little-endian or big-endian)\n",
        "* * Read more here: https://numpy.org/doc/stable/reference/generated/numpy.dtype.byteorder.html\n",
        "*   If the data type is a sub-array, what is its shape and data type?\n",
        "\n",
        "![Anatomy of a Figure ](https://drive.google.com/uc?export=view&id=1OZN4g1ybA7GX_cBUemDBiepZXHPrmzDy)"
      ]
    },
    {
      "cell_type": "markdown",
      "metadata": {
        "id": "-sYQLakwUddx"
      },
      "source": [
        "### Finding the datatype of the created array"
      ]
    },
    {
      "cell_type": "code",
      "metadata": {
        "id": "DBRpdoOAUcgb",
        "colab": {
          "base_uri": "https://localhost:8080/"
        },
        "outputId": "06f788db-5f83-44d1-adff-f0fa67071353"
      },
      "source": [
        "arr.dtype"
      ],
      "execution_count": null,
      "outputs": [
        {
          "output_type": "execute_result",
          "data": {
            "text/plain": [
              "dtype('int64')"
            ]
          },
          "metadata": {},
          "execution_count": 16
        }
      ]
    },
    {
      "cell_type": "markdown",
      "metadata": {
        "id": "xiB6tqCAHYai"
      },
      "source": [
        "### Specifying the data type (`dtype`)\n",
        "\n",
        "* The default data type is `np.float64`.\n",
        "* Specific datatype can be mentioned using the `dtype` keyword"
      ]
    },
    {
      "cell_type": "code",
      "metadata": {
        "id": "voZvXYbEGzki",
        "colab": {
          "base_uri": "https://localhost:8080/"
        },
        "outputId": "fb749891-41a8-4d0a-90b5-2e3e96e6db32"
      },
      "source": [
        "np.ones(3, dtype=np.int64)"
      ],
      "execution_count": null,
      "outputs": [
        {
          "output_type": "execute_result",
          "data": {
            "text/plain": [
              "array([1, 1, 1])"
            ]
          },
          "metadata": {},
          "execution_count": 21
        }
      ]
    },
    {
      "cell_type": "markdown",
      "metadata": {
        "id": "9Yc1vQFTH-0p"
      },
      "source": [
        "Compare it with the default one"
      ]
    },
    {
      "cell_type": "code",
      "metadata": {
        "id": "LDOqd_hFH5Ri",
        "colab": {
          "base_uri": "https://localhost:8080/"
        },
        "outputId": "5db0c2d1-fe8b-40f1-ca45-94bc282fa3d9"
      },
      "source": [
        "np.ones(3)"
      ],
      "execution_count": null,
      "outputs": [
        {
          "output_type": "execute_result",
          "data": {
            "text/plain": [
              "array([1., 1., 1.])"
            ]
          },
          "metadata": {},
          "execution_count": 33
        }
      ]
    },
    {
      "cell_type": "markdown",
      "metadata": {
        "id": "NlQC__ecB4lo"
      },
      "source": [
        "# -------------------------------------------------------------"
      ]
    },
    {
      "cell_type": "markdown",
      "metadata": {
        "id": "dYQyU0_8BCf8"
      },
      "source": [
        "### Qn: Why previously vec_a was dtype int64 and not the default float64?"
      ]
    },
    {
      "cell_type": "code",
      "metadata": {
        "colab": {
          "base_uri": "https://localhost:8080/"
        },
        "id": "zuCO0NomBQif",
        "outputId": "17a9ee87-c233-40dc-8c5f-15f0e1617521"
      },
      "source": [
        "vec_a = np.array([1, 2, 3, 4, 5, 6])\n",
        "vec_a.dtype"
      ],
      "execution_count": null,
      "outputs": [
        {
          "output_type": "execute_result",
          "data": {
            "text/plain": [
              "dtype('int64')"
            ]
          },
          "metadata": {},
          "execution_count": 34
        }
      ]
    },
    {
      "cell_type": "code",
      "metadata": {
        "colab": {
          "base_uri": "https://localhost:8080/"
        },
        "id": "MoAj_nQqBYtb",
        "outputId": "3e8d8e0a-8124-47d0-d1aa-cd352a119101"
      },
      "source": [
        "vec_a = np.array([1, 2.0, 3, 4, 5, 6])\n",
        "vec_a.dtype"
      ],
      "execution_count": null,
      "outputs": [
        {
          "output_type": "execute_result",
          "data": {
            "text/plain": [
              "dtype('float64')"
            ]
          },
          "metadata": {},
          "execution_count": 35
        }
      ]
    },
    {
      "cell_type": "code",
      "metadata": {
        "colab": {
          "base_uri": "https://localhost:8080/"
        },
        "id": "G6lLG5AGBZCW",
        "outputId": "6909f834-a066-44cd-c58e-9f14197ff39c"
      },
      "source": [
        "vec_a = np.array([])\n",
        "vec_a.dtype"
      ],
      "execution_count": null,
      "outputs": [
        {
          "output_type": "execute_result",
          "data": {
            "text/plain": [
              "dtype('float64')"
            ]
          },
          "metadata": {},
          "execution_count": 36
        }
      ]
    },
    {
      "cell_type": "markdown",
      "metadata": {
        "id": "73-m7IOlX8FG"
      },
      "source": [
        "Changing `dtype` after array creation"
      ]
    },
    {
      "cell_type": "code",
      "metadata": {
        "id": "7S3n74NeX7Ac",
        "colab": {
          "base_uri": "https://localhost:8080/"
        },
        "outputId": "e95a9541-9ec6-4ee5-cc88-c341fe7644b4"
      },
      "source": [
        "int_array = np.array([1, 2, 3, 4, 5])\n",
        "print(\"Initial dtype is\", int_array.dtype)\n",
        "float_array = int_array.astype(np.float64)\n",
        "print(\"After dtype change\",float_array.dtype)"
      ],
      "execution_count": null,
      "outputs": [
        {
          "output_type": "stream",
          "name": "stdout",
          "text": [
            "Initial dtype is int64\n",
            "After dtype change float64\n"
          ]
        }
      ]
    },
    {
      "cell_type": "markdown",
      "metadata": {
        "id": "QUMVTR9Dskwj"
      },
      "source": [
        "Check the arrays for difference"
      ]
    },
    {
      "cell_type": "code",
      "metadata": {
        "id": "2ic7CVDAsn1l",
        "colab": {
          "base_uri": "https://localhost:8080/"
        },
        "outputId": "3ea48ee4-9341-4799-8184-e08003c971d0"
      },
      "source": [
        "int_array"
      ],
      "execution_count": null,
      "outputs": [
        {
          "output_type": "execute_result",
          "data": {
            "text/plain": [
              "array([1, 2, 3, 4, 5])"
            ]
          },
          "metadata": {},
          "execution_count": 39
        }
      ]
    },
    {
      "cell_type": "code",
      "metadata": {
        "id": "5Eqm90Hisrwv",
        "colab": {
          "base_uri": "https://localhost:8080/"
        },
        "outputId": "5f27ecee-a907-4e87-cc67-f4e49286d23b"
      },
      "source": [
        "float_array"
      ],
      "execution_count": null,
      "outputs": [
        {
          "output_type": "execute_result",
          "data": {
            "text/plain": [
              "array([1., 2., 3., 4., 5.])"
            ]
          },
          "metadata": {},
          "execution_count": 40
        }
      ]
    },
    {
      "cell_type": "markdown",
      "metadata": {
        "id": "MbkWP1UitY-a"
      },
      "source": [
        "Check below for the difference"
      ]
    },
    {
      "cell_type": "code",
      "metadata": {
        "id": "U48VN1vKtaEJ",
        "colab": {
          "base_uri": "https://localhost:8080/"
        },
        "outputId": "7d485fa3-59db-459e-d3f3-4aa2a7ee8a92"
      },
      "source": [
        "int_array = np.array([1.5, 2, 3.6, 4, 5])\n",
        "print(\"Initial dtype is\", int_array.dtype)\n",
        "float_array = int_array.astype(np.float64)\n",
        "print(\"After dtype change\",float_array.dtype)"
      ],
      "execution_count": null,
      "outputs": [
        {
          "output_type": "stream",
          "name": "stdout",
          "text": [
            "Initial dtype is float64\n",
            "After dtype change float64\n"
          ]
        }
      ]
    },
    {
      "cell_type": "markdown",
      "metadata": {
        "id": "CO_pYw47taEQ"
      },
      "source": [
        "Check the arrays for difference"
      ]
    },
    {
      "cell_type": "code",
      "metadata": {
        "id": "bwvzWMovtaER",
        "colab": {
          "base_uri": "https://localhost:8080/"
        },
        "outputId": "50443976-f5f9-47d6-bd43-740408f16235"
      },
      "source": [
        "int_array"
      ],
      "execution_count": null,
      "outputs": [
        {
          "output_type": "execute_result",
          "data": {
            "text/plain": [
              "array([1.5, 2. , 3.6, 4. , 5. ])"
            ]
          },
          "metadata": {},
          "execution_count": 42
        }
      ]
    },
    {
      "cell_type": "code",
      "metadata": {
        "id": "NRliaIdqtaEX",
        "colab": {
          "base_uri": "https://localhost:8080/"
        },
        "outputId": "9029fde7-8d51-4122-bdce-85ceda8bf045"
      },
      "source": [
        "float_array"
      ],
      "execution_count": null,
      "outputs": [
        {
          "output_type": "execute_result",
          "data": {
            "text/plain": [
              "array([1.5, 2. , 3.6, 4. , 5. ])"
            ]
          },
          "metadata": {},
          "execution_count": 43
        }
      ]
    },
    {
      "cell_type": "markdown",
      "metadata": {
        "id": "Etm1Mdastn1w"
      },
      "source": [
        "How to correctly define:"
      ]
    },
    {
      "cell_type": "code",
      "metadata": {
        "id": "z_1-iVRBtoXr",
        "colab": {
          "base_uri": "https://localhost:8080/"
        },
        "outputId": "f75e6dd4-c07c-4b90-c72d-3fd4bc2c3eb7"
      },
      "source": [
        "int_array = np.array([1.5, 2, 3.6, 4, 5], dtype=np.int64)\n",
        "print(\"Initial dtype is\", int_array.dtype)\n",
        "float_array = int_array.astype(np.float64)\n",
        "print(\"After dtype change\",float_array.dtype)"
      ],
      "execution_count": null,
      "outputs": [
        {
          "output_type": "stream",
          "name": "stdout",
          "text": [
            "Initial dtype is int64\n",
            "After dtype change float64\n"
          ]
        }
      ]
    },
    {
      "cell_type": "markdown",
      "metadata": {
        "id": "Hb9mwJJDtoXu"
      },
      "source": [
        "Check the arrays for difference"
      ]
    },
    {
      "cell_type": "code",
      "metadata": {
        "id": "SxU2ADaAtoXu",
        "colab": {
          "base_uri": "https://localhost:8080/"
        },
        "outputId": "4b9d9deb-24ec-4d2f-f028-5c4f2c89c8da"
      },
      "source": [
        "int_array"
      ],
      "execution_count": null,
      "outputs": [
        {
          "output_type": "execute_result",
          "data": {
            "text/plain": [
              "array([1, 2, 3, 4, 5])"
            ]
          },
          "metadata": {},
          "execution_count": 45
        }
      ]
    },
    {
      "cell_type": "code",
      "metadata": {
        "id": "5cXiQH6WtoXy",
        "colab": {
          "base_uri": "https://localhost:8080/"
        },
        "outputId": "b7b4da2c-91d2-4a46-cc16-69e4a10d031d"
      },
      "source": [
        "float_array"
      ],
      "execution_count": null,
      "outputs": [
        {
          "output_type": "execute_result",
          "data": {
            "text/plain": [
              "array([1., 2., 3., 4., 5.])"
            ]
          },
          "metadata": {},
          "execution_count": 46
        }
      ]
    },
    {
      "cell_type": "markdown",
      "metadata": {
        "id": "zF2CmNWT9Unr"
      },
      "source": [
        "## Initializing different types of numpy arrays\n",
        "\n",
        "In the following section, we will discuss the following:\n",
        "\n",
        "> * `np.zeros()`\n",
        "> * `np.ones()`\n",
        "> * `np.empty()`\n",
        "> * `np.arange()`\n",
        "> * `np.linspace()`\n",
        "\n",
        "and some other interesting methods to create numpy arrays\n",
        "\n",
        "**Recall Maths and Stats Lecture...**"
      ]
    },
    {
      "cell_type": "markdown",
      "metadata": {
        "id": "rKor6xbbC7mz"
      },
      "source": [
        "(Recap) To create a numpy array, we can se the function `np.array` as below:"
      ]
    },
    {
      "cell_type": "code",
      "metadata": {
        "id": "y4iVH9hn-oBn",
        "colab": {
          "base_uri": "https://localhost:8080/"
        },
        "outputId": "8afff875-2ecd-4f33-d2db-22cb038c8f76"
      },
      "source": [
        " np.array([1, 2, 3])"
      ],
      "execution_count": null,
      "outputs": [
        {
          "output_type": "execute_result",
          "data": {
            "text/plain": [
              "array([1, 2, 3])"
            ]
          },
          "metadata": {},
          "execution_count": 47
        }
      ]
    },
    {
      "cell_type": "markdown",
      "metadata": {
        "id": "DHxYs_-qDOcQ"
      },
      "source": [
        "Creating a zero array ( an array filled with 0s)"
      ]
    },
    {
      "cell_type": "code",
      "metadata": {
        "id": "NHruAwmkDS_n",
        "colab": {
          "base_uri": "https://localhost:8080/"
        },
        "outputId": "965f3e02-e75e-4311-86d0-f23af3d9b4bf"
      },
      "source": [
        "np.zeros(3) #defaults to dtype float64"
      ],
      "execution_count": null,
      "outputs": [
        {
          "output_type": "execute_result",
          "data": {
            "text/plain": [
              "array([0., 0., 0.])"
            ]
          },
          "metadata": {},
          "execution_count": 48
        }
      ]
    },
    {
      "cell_type": "markdown",
      "metadata": {
        "id": "DEfFJZyxMpWE"
      },
      "source": [
        "Creating a all zeros matrix of dimension 3x4:"
      ]
    },
    {
      "cell_type": "code",
      "metadata": {
        "id": "Nz_C1LK0M0Ak",
        "colab": {
          "base_uri": "https://localhost:8080/"
        },
        "outputId": "0eb04f66-9de7-403a-cf72-0079ef272553"
      },
      "source": [
        "np.zeros((3,4))"
      ],
      "execution_count": null,
      "outputs": [
        {
          "output_type": "execute_result",
          "data": {
            "text/plain": [
              "array([[0., 0., 0., 0.],\n",
              "       [0., 0., 0., 0.],\n",
              "       [0., 0., 0., 0.]])"
            ]
          },
          "metadata": {},
          "execution_count": 49
        }
      ]
    },
    {
      "cell_type": "markdown",
      "metadata": {
        "id": "bSlVY4TuDcy4"
      },
      "source": [
        "Similarly, creating a ones array (an array filled with 1s)"
      ]
    },
    {
      "cell_type": "code",
      "metadata": {
        "id": "Ztx8jvM3DXNr",
        "colab": {
          "base_uri": "https://localhost:8080/"
        },
        "outputId": "77d0a306-1d47-48da-c9ef-bf322686ebdd"
      },
      "source": [
        "np.ones(3)"
      ],
      "execution_count": null,
      "outputs": [
        {
          "output_type": "execute_result",
          "data": {
            "text/plain": [
              "array([1., 1., 1.])"
            ]
          },
          "metadata": {},
          "execution_count": 50
        }
      ]
    },
    {
      "cell_type": "markdown",
      "metadata": {
        "id": "X-Tnese1M7K7"
      },
      "source": [
        "Creating a all ones matrix of dimension 3x4:"
      ]
    },
    {
      "cell_type": "code",
      "metadata": {
        "id": "hI1doSRdM7Qv",
        "colab": {
          "base_uri": "https://localhost:8080/"
        },
        "outputId": "49c50c88-1f8a-483b-fddc-037222b22a58"
      },
      "source": [
        "np.ones((3,4))"
      ],
      "execution_count": null,
      "outputs": [
        {
          "output_type": "execute_result",
          "data": {
            "text/plain": [
              "array([[1., 1., 1., 1.],\n",
              "       [1., 1., 1., 1.],\n",
              "       [1., 1., 1., 1.]])"
            ]
          },
          "metadata": {},
          "execution_count": 51
        }
      ]
    },
    {
      "cell_type": "code",
      "metadata": {
        "id": "jjc2_M9-NSV0",
        "colab": {
          "base_uri": "https://localhost:8080/"
        },
        "outputId": "f273e9b8-ab01-4f2e-acab-29bd73486ef6"
      },
      "source": [
        "# 3d all ones matrix\n",
        "mat_3d = np.ones((4,3,3))\n",
        "print(mat_3d)"
      ],
      "execution_count": null,
      "outputs": [
        {
          "output_type": "stream",
          "name": "stdout",
          "text": [
            "[[[1. 1. 1.]\n",
            "  [1. 1. 1.]\n",
            "  [1. 1. 1.]]\n",
            "\n",
            " [[1. 1. 1.]\n",
            "  [1. 1. 1.]\n",
            "  [1. 1. 1.]]\n",
            "\n",
            " [[1. 1. 1.]\n",
            "  [1. 1. 1.]\n",
            "  [1. 1. 1.]]\n",
            "\n",
            " [[1. 1. 1.]\n",
            "  [1. 1. 1.]\n",
            "  [1. 1. 1.]]]\n"
          ]
        }
      ]
    },
    {
      "cell_type": "markdown",
      "metadata": {
        "id": "SbO9G-erNcPh"
      },
      "source": [
        "Note: By default the dtype is `float64`"
      ]
    },
    {
      "cell_type": "code",
      "metadata": {
        "id": "uTuoXT4QNnjs",
        "colab": {
          "base_uri": "https://localhost:8080/"
        },
        "outputId": "8101007b-6491-4c45-8cf8-6f651a502e97"
      },
      "source": [
        "mat_3d.dtype"
      ],
      "execution_count": null,
      "outputs": [
        {
          "output_type": "execute_result",
          "data": {
            "text/plain": [
              "dtype('float64')"
            ]
          },
          "metadata": {},
          "execution_count": 53
        }
      ]
    },
    {
      "cell_type": "code",
      "metadata": {
        "id": "ba8KhXB5Nrt0",
        "colab": {
          "base_uri": "https://localhost:8080/"
        },
        "outputId": "f5f90e5a-87cb-4fa7-8935-f4f3f7889c56"
      },
      "source": [
        "# to initialize a matrix with dtype int32\n",
        "mat_3dint = np.ones((4,3,3),dtype='int32')#\n",
        "print(mat_3dint)"
      ],
      "execution_count": null,
      "outputs": [
        {
          "output_type": "stream",
          "name": "stdout",
          "text": [
            "[[[1 1 1]\n",
            "  [1 1 1]\n",
            "  [1 1 1]]\n",
            "\n",
            " [[1 1 1]\n",
            "  [1 1 1]\n",
            "  [1 1 1]]\n",
            "\n",
            " [[1 1 1]\n",
            "  [1 1 1]\n",
            "  [1 1 1]]\n",
            "\n",
            " [[1 1 1]\n",
            "  [1 1 1]\n",
            "  [1 1 1]]]\n"
          ]
        }
      ]
    },
    {
      "cell_type": "markdown",
      "metadata": {
        "id": "7BRj6J4VDpDg"
      },
      "source": [
        "Creating an empty array using `np.empty()` created an array filled with random values (which depends on the state of the memory).\n",
        "\n",
        "Note: `np.empty()` is preferred over `np.zeros()` or `np.ones()` or something similar is when there is need for speed. `np.zeros()` and `np.ones()` are widely used in the field of Machine Learning or Data Science to initialize NumPy arrays."
      ]
    },
    {
      "cell_type": "code",
      "metadata": {
        "id": "RDvmQikCDkRG",
        "colab": {
          "base_uri": "https://localhost:8080/"
        },
        "outputId": "f407b8e0-604b-4f63-eb0a-7339a7bad833"
      },
      "source": [
        "np.empty(7) # creating an empty array with 7 elements"
      ],
      "execution_count": null,
      "outputs": [
        {
          "output_type": "execute_result",
          "data": {
            "text/plain": [
              "array([4.63910596e-310, 2.01589600e-312, 2.12199579e-312, 2.12199579e-312,\n",
              "       2.56761491e-312, 2.14321575e-312, 8.70018274e-313])"
            ]
          },
          "metadata": {},
          "execution_count": 65
        }
      ]
    },
    {
      "cell_type": "markdown",
      "metadata": {
        "id": "aS6slH57HeX7"
      },
      "source": [
        "Note: Please note that ideally the values should be garbage but does not appear to be in some cases. Higher numbers should ideally work fine.\n",
        "\n",
        "See: https://stackoverflow.com/questions/54725478/are-the-values-returned-by-numpy-empty-random-or-not\n"
      ]
    },
    {
      "cell_type": "markdown",
      "metadata": {
        "id": "GMB-3W-GQL9Z"
      },
      "source": [
        "Instead of creating an empty array, you can also create an array with any value you want"
      ]
    },
    {
      "cell_type": "code",
      "metadata": {
        "id": "o8VfYR9FQMFM",
        "colab": {
          "base_uri": "https://localhost:8080/"
        },
        "outputId": "f53524dd-e8c0-4e4b-9c1b-0fed652f28ca"
      },
      "source": [
        "np.full((3,3), 57.6)"
      ],
      "execution_count": null,
      "outputs": [
        {
          "output_type": "execute_result",
          "data": {
            "text/plain": [
              "array([[57.6, 57.6, 57.6],\n",
              "       [57.6, 57.6, 57.6],\n",
              "       [57.6, 57.6, 57.6]])"
            ]
          },
          "metadata": {},
          "execution_count": 66
        }
      ]
    },
    {
      "cell_type": "code",
      "metadata": {
        "id": "zT5ehrg6Qcqa",
        "colab": {
          "base_uri": "https://localhost:8080/"
        },
        "outputId": "6f690ee6-46af-43d1-9ee6-dbf1ebdfd988"
      },
      "source": [
        "np.full((3,3), 57.6, dtype='int64')"
      ],
      "execution_count": null,
      "outputs": [
        {
          "output_type": "execute_result",
          "data": {
            "text/plain": [
              "array([[57, 57, 57],\n",
              "       [57, 57, 57],\n",
              "       [57, 57, 57]])"
            ]
          },
          "metadata": {},
          "execution_count": 68
        }
      ]
    },
    {
      "cell_type": "code",
      "metadata": {
        "id": "iUhVD513QpKj",
        "colab": {
          "base_uri": "https://localhost:8080/"
        },
        "outputId": "4955fc48-2cdd-4d5f-c417-246209806c24"
      },
      "source": [
        "mat_3dint = np.ones((4,3,3),dtype='int32')#\n",
        "np.full_like(mat_3dint, 12)"
      ],
      "execution_count": null,
      "outputs": [
        {
          "output_type": "execute_result",
          "data": {
            "text/plain": [
              "array([[[12, 12, 12],\n",
              "        [12, 12, 12],\n",
              "        [12, 12, 12]],\n",
              "\n",
              "       [[12, 12, 12],\n",
              "        [12, 12, 12],\n",
              "        [12, 12, 12]],\n",
              "\n",
              "       [[12, 12, 12],\n",
              "        [12, 12, 12],\n",
              "        [12, 12, 12]],\n",
              "\n",
              "       [[12, 12, 12],\n",
              "        [12, 12, 12],\n",
              "        [12, 12, 12]]], dtype=int32)"
            ]
          },
          "metadata": {},
          "execution_count": 70
        }
      ]
    },
    {
      "cell_type": "markdown",
      "metadata": {
        "id": "arF56YUOFHfJ"
      },
      "source": [
        "**Creating an array with a range of elements**\n",
        "\n"
      ]
    },
    {
      "cell_type": "code",
      "metadata": {
        "id": "Y7oNpJfADwEW",
        "colab": {
          "base_uri": "https://localhost:8080/"
        },
        "outputId": "ae7b2383-1745-4391-f49b-9ca495286668"
      },
      "source": [
        "np.arange(5)"
      ],
      "execution_count": null,
      "outputs": [
        {
          "output_type": "execute_result",
          "data": {
            "text/plain": [
              "array([0, 1, 2, 3, 4])"
            ]
          },
          "metadata": {},
          "execution_count": 71
        }
      ]
    },
    {
      "cell_type": "markdown",
      "metadata": {
        "id": "4uqPmswjFyFx"
      },
      "source": [
        " Creating an array that contains a range of evenly spaced intervals\n",
        "\n",
        "\n"
      ]
    },
    {
      "cell_type": "code",
      "metadata": {
        "id": "XtV7xw7xFfCi",
        "colab": {
          "base_uri": "https://localhost:8080/"
        },
        "outputId": "79a17541-9021-4f6f-c850-d4892c4beac8"
      },
      "source": [
        "np.arange(1, 10, 2) # Syntax is first number, last number, and the step size."
      ],
      "execution_count": null,
      "outputs": [
        {
          "output_type": "execute_result",
          "data": {
            "text/plain": [
              "array([1, 3, 5, 7, 9])"
            ]
          },
          "metadata": {},
          "execution_count": 72
        }
      ]
    },
    {
      "cell_type": "markdown",
      "metadata": {
        "id": "_C51tgi5Gp4T"
      },
      "source": [
        "Creating an array with values that are spaced linearly in a specified interval using `np.linspace()`"
      ]
    },
    {
      "cell_type": "code",
      "metadata": {
        "id": "ZsE3t_ZdF3AP",
        "colab": {
          "base_uri": "https://localhost:8080/"
        },
        "outputId": "20d74ebd-7d0d-4f98-9495-a02e7f8bdb32"
      },
      "source": [
        "np.linspace(1, 15, num=5)"
      ],
      "execution_count": null,
      "outputs": [
        {
          "output_type": "execute_result",
          "data": {
            "text/plain": [
              "array([ 1. ,  4.5,  8. , 11.5, 15. ])"
            ]
          },
          "metadata": {},
          "execution_count": 73
        }
      ]
    },
    {
      "cell_type": "markdown",
      "metadata": {
        "id": "ekr_Nrc8VeqI"
      },
      "source": [
        "Creating a bigger array by repeating an array"
      ]
    },
    {
      "cell_type": "code",
      "metadata": {
        "id": "LzmHsEhDVe1T",
        "colab": {
          "base_uri": "https://localhost:8080/"
        },
        "outputId": "d4141f83-e783-41a8-fdd8-027af057cd44"
      },
      "source": [
        "arr = np.array([1,2,3])\n",
        "print(arr)\n",
        "rep_arr = np.repeat(arr,4,axis=0)\n",
        "print(\"\\n\",rep_arr)"
      ],
      "execution_count": null,
      "outputs": [
        {
          "output_type": "stream",
          "name": "stdout",
          "text": [
            "[1 2 3]\n",
            "\n",
            " [1 1 1 1 2 2 2 2 3 3 3 3]\n"
          ]
        }
      ]
    },
    {
      "cell_type": "code",
      "metadata": {
        "id": "3iFNkQBLWJpT",
        "colab": {
          "base_uri": "https://localhost:8080/"
        },
        "outputId": "08b34c4d-367b-44d4-f872-5ca894a6e1de"
      },
      "source": [
        "# if you want it to repate as rows\n",
        "arr = np.array([[1,2,3]])  # notice the double brackets\n",
        "print(arr)\n",
        "rep_arr = np.repeat(arr,4,axis=0)\n",
        "print(\"\\n\",rep_arr)"
      ],
      "execution_count": null,
      "outputs": [
        {
          "output_type": "stream",
          "name": "stdout",
          "text": [
            "[[1 2 3]]\n",
            "\n",
            " [[1 2 3]\n",
            " [1 2 3]\n",
            " [1 2 3]\n",
            " [1 2 3]]\n"
          ]
        }
      ]
    },
    {
      "cell_type": "markdown",
      "metadata": {
        "id": "3qLz8xejjNuQ"
      },
      "source": [
        "#NumPy Operations\n",
        "##Indexing and slicing"
      ]
    },
    {
      "cell_type": "code",
      "metadata": {
        "id": "-Kd3BkgZjhnJ",
        "colab": {
          "base_uri": "https://localhost:8080/"
        },
        "outputId": "58f10acb-b4c9-40c8-c5c7-85608d88bc5a"
      },
      "source": [
        "sample_array = np.arange(5,15)\n",
        "print(sample_array)"
      ],
      "execution_count": null,
      "outputs": [
        {
          "output_type": "stream",
          "name": "stdout",
          "text": [
            "[ 5  6  7  8  9 10 11 12 13 14]\n"
          ]
        }
      ]
    },
    {
      "cell_type": "code",
      "metadata": {
        "id": "MQmGS8lco4IG",
        "colab": {
          "base_uri": "https://localhost:8080/"
        },
        "outputId": "76a279e3-2df6-4d00-e77e-3a06b17ff754"
      },
      "source": [
        "# accessing second element of the array\n",
        "sample_array[1]"
      ],
      "execution_count": null,
      "outputs": [
        {
          "output_type": "execute_result",
          "data": {
            "text/plain": [
              "6"
            ]
          },
          "metadata": {},
          "execution_count": 80
        }
      ]
    },
    {
      "cell_type": "code",
      "metadata": {
        "id": "PscjPolto5TN",
        "colab": {
          "base_uri": "https://localhost:8080/"
        },
        "outputId": "c120b09c-1159-4090-a30b-7d356da3fbea"
      },
      "source": [
        "# accessing first four elements of the array\n",
        "sample_array[:4]"
      ],
      "execution_count": null,
      "outputs": [
        {
          "output_type": "execute_result",
          "data": {
            "text/plain": [
              "array([5, 6, 7, 8])"
            ]
          },
          "metadata": {},
          "execution_count": 81
        }
      ]
    },
    {
      "cell_type": "code",
      "metadata": {
        "id": "-bElO6PppCjS",
        "colab": {
          "base_uri": "https://localhost:8080/"
        },
        "outputId": "83243c0a-b765-4341-b996-7254ec142213"
      },
      "source": [
        "# accessing all elements after the fourth element of the array\n",
        "sample_array[4:]"
      ],
      "execution_count": null,
      "outputs": [
        {
          "output_type": "execute_result",
          "data": {
            "text/plain": [
              "array([ 9, 10, 11, 12, 13, 14])"
            ]
          },
          "metadata": {},
          "execution_count": 82
        }
      ]
    },
    {
      "cell_type": "markdown",
      "metadata": {
        "id": "8rz0bqMVpVFm"
      },
      "source": [
        "Creating an array slice/subset"
      ]
    },
    {
      "cell_type": "code",
      "metadata": {
        "id": "GanKsTHlpR6S",
        "colab": {
          "base_uri": "https://localhost:8080/"
        },
        "outputId": "a9e0d693-8894-452a-cf41-a8edb21c7e70"
      },
      "source": [
        "# accessing second element of the array\n",
        "sam_array_slice = sample_array[2:4]\n",
        "print(sam_array_slice)"
      ],
      "execution_count": null,
      "outputs": [
        {
          "output_type": "stream",
          "name": "stdout",
          "text": [
            "[7 8]\n"
          ]
        }
      ]
    },
    {
      "cell_type": "markdown",
      "metadata": {
        "id": "oi0PrTMMqMyQ"
      },
      "source": [
        "Slicing 2D arrays"
      ]
    },
    {
      "cell_type": "code",
      "metadata": {
        "id": "MzghDLKxqNN-",
        "colab": {
          "base_uri": "https://localhost:8080/"
        },
        "outputId": "edd56378-011d-46f6-cf63-82ca3e2d347d"
      },
      "source": [
        "sample_2darray = np.array([[1 , 2, 3, 4], [5, 6, 7, 8], [9, 10, 11, 12]])\n",
        "print(sample_2darray)"
      ],
      "execution_count": null,
      "outputs": [
        {
          "output_type": "stream",
          "name": "stdout",
          "text": [
            "[[ 1  2  3  4]\n",
            " [ 5  6  7  8]\n",
            " [ 9 10 11 12]]\n"
          ]
        }
      ]
    },
    {
      "cell_type": "code",
      "metadata": {
        "id": "WIm9jKnou4bi",
        "colab": {
          "base_uri": "https://localhost:8080/"
        },
        "outputId": "c716dcd3-cda2-4c8a-eaa9-5e089b1d5013"
      },
      "source": [
        "sample_2darray[:2,2:4]"
      ],
      "execution_count": null,
      "outputs": [
        {
          "output_type": "execute_result",
          "data": {
            "text/plain": [
              "array([[3, 4],\n",
              "       [7, 8]])"
            ]
          },
          "metadata": {},
          "execution_count": 128
        }
      ]
    },
    {
      "cell_type": "markdown",
      "metadata": {
        "id": "SlNOnDhgNIrj"
      },
      "source": [
        "**Note: The result includes the start index, but excludes the end index.**\n"
      ]
    },
    {
      "cell_type": "markdown",
      "metadata": {
        "id": "2bkpkr4NaE6U"
      },
      "source": [
        "## Copying an array\n",
        "\n",
        "Be careful when copying an array"
      ]
    },
    {
      "cell_type": "code",
      "metadata": {
        "id": "lGyzGnyIaFLS",
        "colab": {
          "base_uri": "https://localhost:8080/"
        },
        "outputId": "32d5df8c-f7df-4ccf-fdb5-bb74ed23272a"
      },
      "source": [
        "arr =  np.array([1,2,3])\n",
        "print(arr)\n",
        "arr_copy = arr\n",
        "print(arr_copy)"
      ],
      "execution_count": null,
      "outputs": [
        {
          "output_type": "stream",
          "name": "stdout",
          "text": [
            "[1 2 3]\n",
            "[1 2 3]\n"
          ]
        }
      ]
    },
    {
      "cell_type": "code",
      "metadata": {
        "id": "AVRVAlJIaXl_",
        "colab": {
          "base_uri": "https://localhost:8080/"
        },
        "outputId": "385d535f-0784-4934-fee1-9c68f0c3c055"
      },
      "source": [
        "# If you make any changes to arr_copy\n",
        "arr_copy[1] = 10\n",
        "print(arr_copy)"
      ],
      "execution_count": null,
      "outputs": [
        {
          "output_type": "stream",
          "name": "stdout",
          "text": [
            "[ 1 10  3]\n"
          ]
        }
      ]
    },
    {
      "cell_type": "code",
      "metadata": {
        "id": "g83_yw_HaglP",
        "colab": {
          "base_uri": "https://localhost:8080/"
        },
        "outputId": "f0b39e68-8275-4342-d5c6-48441253e03f"
      },
      "source": [
        "#check your original array\n",
        "print(arr)"
      ],
      "execution_count": null,
      "outputs": [
        {
          "output_type": "stream",
          "name": "stdout",
          "text": [
            "[ 1 10  3]\n"
          ]
        }
      ]
    },
    {
      "cell_type": "markdown",
      "metadata": {
        "id": "VT9b_dqlafJG"
      },
      "source": [
        "Copying an array using the = sign results a array which points to the original array\n",
        "\n",
        "To create an array copy, use the following:"
      ]
    },
    {
      "cell_type": "code",
      "metadata": {
        "id": "pPfkhq3IbXDf",
        "colab": {
          "base_uri": "https://localhost:8080/"
        },
        "outputId": "e5617f29-beb7-4285-9cda-d1b4a4c73bd6"
      },
      "source": [
        "arr =  np.array([1,2,3])\n",
        "arr_copy = arr.copy()\n",
        "print(arr_copy)"
      ],
      "execution_count": null,
      "outputs": [
        {
          "output_type": "stream",
          "name": "stdout",
          "text": [
            "[1 2 3]\n"
          ]
        }
      ]
    },
    {
      "cell_type": "markdown",
      "metadata": {
        "id": "autdHvsKNwJs"
      },
      "source": [
        "Now check the results again"
      ]
    },
    {
      "cell_type": "code",
      "metadata": {
        "colab": {
          "base_uri": "https://localhost:8080/"
        },
        "id": "Fg18yxAvNnmB",
        "outputId": "ec3e9cf5-70eb-4991-8da2-05e61b4a6bae"
      },
      "source": [
        "arr_copy[1] = 10\n",
        "print(arr_copy)\n",
        "print(arr)"
      ],
      "execution_count": null,
      "outputs": [
        {
          "output_type": "stream",
          "name": "stdout",
          "text": [
            "[ 1 10  3]\n",
            "[1 2 3]\n"
          ]
        }
      ]
    },
    {
      "cell_type": "markdown",
      "metadata": {
        "id": "RwAj8EvEJSs8"
      },
      "source": [
        "## Sorting\n",
        "\n",
        "In this section, we will discuss:\n",
        "\n",
        "* `np.sort()` #sorting array in ascending order\n",
        "\n",
        "Syntax: `numpy.sort(a, axis=-1, kind=None, order=None)`\n",
        "\n",
        "> where,  \n",
        "          > * a: array to be sorted\n",
        "          > * axis (optional): int or None Axis along which to sort. If None, the array is flattened before sorting. The default is -1, which sorts along the last axis.\n",
        "          > * kind (optional): {‘quicksort’, ‘mergesort’, ‘heapsort’, ‘stable’}\n",
        "\n",
        "For more details, refer [here](https://numpy.org/doc/stable/reference/generated/numpy.sort.html#numpy.sort)\n",
        "\n"
      ]
    },
    {
      "cell_type": "code",
      "metadata": {
        "id": "8CUTu3D3JvSP"
      },
      "source": [
        "sample_array = np.array([2, 0, 5, 1, 9, 6, 5, 3, 7, 4, 6, 8])"
      ],
      "execution_count": null,
      "outputs": []
    },
    {
      "cell_type": "markdown",
      "metadata": {
        "id": "X43BLr33TNqK"
      },
      "source": [
        "sorting the array `sample_array` in ascending order"
      ]
    },
    {
      "cell_type": "code",
      "metadata": {
        "id": "Y4G7FY6nTH-U",
        "colab": {
          "base_uri": "https://localhost:8080/"
        },
        "outputId": "fed9a807-997e-4bf3-e6c0-164d5a590734"
      },
      "source": [
        "np.sort(sample_array)"
      ],
      "execution_count": null,
      "outputs": [
        {
          "output_type": "execute_result",
          "data": {
            "text/plain": [
              "array([0, 1, 2, 3, 4, 5, 5, 6, 6, 7, 8, 9])"
            ]
          },
          "metadata": {},
          "execution_count": 96
        }
      ]
    },
    {
      "cell_type": "code",
      "metadata": {
        "id": "Dpc5JJjfTZSz",
        "colab": {
          "base_uri": "https://localhost:8080/"
        },
        "outputId": "558a5922-a581-4f76-8114-bca94bdecaaa"
      },
      "source": [
        "# Another Example\n",
        "unsort_array = np.random.randn(5, 3)\n",
        "print(\"Unsorted array:\\n\", unsort_array)\n",
        "sorted_array= np.sort(unsort_array)\n",
        "print(\"\\nSorted array:\\n\", sorted_array)\n",
        "# sorted using np.sort that returns an array instead of \n",
        "# unsort_array.sort() that doesnt return an array object"
      ],
      "execution_count": null,
      "outputs": [
        {
          "output_type": "stream",
          "name": "stdout",
          "text": [
            "Unsorted array:\n",
            " [[-0.10428181 -0.26548622 -0.41979587]\n",
            " [ 0.81671607 -0.22236316  0.28442332]\n",
            " [-1.33947208 -0.01243863 -0.38793399]\n",
            " [ 0.41591426 -0.42166086  0.24926768]\n",
            " [-0.38082797  0.92633566 -0.29729638]]\n",
            "\n",
            "Sorted array:\n",
            " [[-0.41979587 -0.26548622 -0.10428181]\n",
            " [-0.22236316  0.28442332  0.81671607]\n",
            " [-1.33947208 -0.38793399 -0.01243863]\n",
            " [-0.42166086  0.24926768  0.41591426]\n",
            " [-0.38082797 -0.29729638  0.92633566]]\n"
          ]
        }
      ]
    },
    {
      "cell_type": "code",
      "metadata": {
        "id": "F0ESGAHib-XT",
        "colab": {
          "base_uri": "https://localhost:8080/"
        },
        "outputId": "1562c899-3225-4a8c-ba2d-4150f2d68ca3"
      },
      "source": [
        "unsort_array = np.array([[-0.68890454, -0.72456373, 0.84461118],\n",
        " [-0.26276529,  1.57258979, -1.44918071],\n",
        " [-1.71499192,  0.41779693,  1.31305583],\n",
        " [ 0.08198237, -0.19772458,  0.40867152],\n",
        " [-1.21142084,  0.18889558, -2.19407554]])\n",
        "print(\"Unsorted array \\n\", unsort_array)\n",
        "print(\"\\n\")\n",
        "unsort_array.sort(-1) # sorts along the last axis (row wise)\n",
        "# ndarray.sort() is inplace, np.sort is not\n",
        "print(\"Sorted array \\n\", unsort_array)"
      ],
      "execution_count": null,
      "outputs": [
        {
          "output_type": "stream",
          "name": "stdout",
          "text": [
            "Unsorted array \n",
            " [[-0.68890454 -0.72456373  0.84461118]\n",
            " [-0.26276529  1.57258979 -1.44918071]\n",
            " [-1.71499192  0.41779693  1.31305583]\n",
            " [ 0.08198237 -0.19772458  0.40867152]\n",
            " [-1.21142084  0.18889558 -2.19407554]]\n",
            "\n",
            "\n",
            "Sorted array \n",
            " [[-0.72456373 -0.68890454  0.84461118]\n",
            " [-1.44918071 -0.26276529  1.57258979]\n",
            " [-1.71499192  0.41779693  1.31305583]\n",
            " [-0.19772458  0.08198237  0.40867152]\n",
            " [-2.19407554 -1.21142084  0.18889558]]\n"
          ]
        }
      ]
    },
    {
      "cell_type": "code",
      "metadata": {
        "id": "rZyQgCsMhXAx",
        "colab": {
          "base_uri": "https://localhost:8080/"
        },
        "outputId": "e4f1eea3-7a9b-40bf-9754-e747f192fe0c"
      },
      "source": [
        "unsort_array = np.array([[-0.68890454, -0.72456373, 0.84461118],\n",
        " [-0.26276529,  1.57258979, -1.44918071],\n",
        " [-1.71499192,  0.41779693,  1.31305583],\n",
        " [ 0.08198237, -0.19772458,  0.40867152],\n",
        " [-1.21142084,  0.18889558, -2.19407554]])\n",
        "print(\"Unsorted array \\n\", unsort_array)\n",
        "print(\"\\n\")\n",
        "unsort_array.sort(0) # sort along the first axis (column wise)\n",
        "print(\"Sorted array \\n\", unsort_array)"
      ],
      "execution_count": null,
      "outputs": [
        {
          "output_type": "stream",
          "name": "stdout",
          "text": [
            "Unsorted array \n",
            " [[-0.68890454 -0.72456373  0.84461118]\n",
            " [-0.26276529  1.57258979 -1.44918071]\n",
            " [-1.71499192  0.41779693  1.31305583]\n",
            " [ 0.08198237 -0.19772458  0.40867152]\n",
            " [-1.21142084  0.18889558 -2.19407554]]\n",
            "\n",
            "\n",
            "Sorted array \n",
            " [[-1.71499192 -0.72456373 -2.19407554]\n",
            " [-1.21142084 -0.19772458 -1.44918071]\n",
            " [-0.68890454  0.18889558  0.40867152]\n",
            " [-0.26276529  0.41779693  0.84461118]\n",
            " [ 0.08198237  1.57258979  1.31305583]]\n"
          ]
        }
      ]
    },
    {
      "cell_type": "code",
      "metadata": {
        "id": "DjC-OmuhhskE",
        "colab": {
          "base_uri": "https://localhost:8080/"
        },
        "outputId": "2f7ed54b-9452-4748-b764-8421fcb76231"
      },
      "source": [
        "unsort_array = np.array([[-0.68890454, -0.72456373, 0.84461118],\n",
        " [-0.26276529,  1.57258979, -1.44918071],\n",
        " [-1.71499192,  0.41779693,  1.31305583],\n",
        " [ 0.08198237, -0.19772458,  0.40867152],\n",
        " [-1.21142084,  0.18889558, -2.19407554]])\n",
        "print(\"Unsorted array\", unsort_array)\n",
        "unsort_array.sort() # default is -1 \n",
        "print(\"Sorted array\", unsort_array)"
      ],
      "execution_count": null,
      "outputs": [
        {
          "output_type": "stream",
          "name": "stdout",
          "text": [
            "Unsorted array [[-0.68890454 -0.72456373  0.84461118]\n",
            " [-0.26276529  1.57258979 -1.44918071]\n",
            " [-1.71499192  0.41779693  1.31305583]\n",
            " [ 0.08198237 -0.19772458  0.40867152]\n",
            " [-1.21142084  0.18889558 -2.19407554]]\n",
            "Sorted array [[-0.72456373 -0.68890454  0.84461118]\n",
            " [-1.44918071 -0.26276529  1.57258979]\n",
            " [-1.71499192  0.41779693  1.31305583]\n",
            " [-0.19772458  0.08198237  0.40867152]\n",
            " [-2.19407554 -1.21142084  0.18889558]]\n"
          ]
        }
      ]
    },
    {
      "cell_type": "markdown",
      "metadata": {
        "id": "_UomfNmkjAOl"
      },
      "source": [
        "## Concatenate\n",
        "\n"
      ]
    },
    {
      "cell_type": "code",
      "metadata": {
        "id": "VvLooMikxKtr",
        "colab": {
          "base_uri": "https://localhost:8080/"
        },
        "outputId": "e023fd0e-1ae1-4446-d0a8-7fe00f0a144e"
      },
      "source": [
        "np.concatenate((unsort_array, unsort_array+2),axis=0) #default, stacked by row"
      ],
      "execution_count": null,
      "outputs": [
        {
          "output_type": "execute_result",
          "data": {
            "text/plain": [
              "array([[-0.72456373, -0.68890454,  0.84461118],\n",
              "       [-1.44918071, -0.26276529,  1.57258979],\n",
              "       [-1.71499192,  0.41779693,  1.31305583],\n",
              "       [-0.19772458,  0.08198237,  0.40867152],\n",
              "       [-2.19407554, -1.21142084,  0.18889558],\n",
              "       [ 1.27543627,  1.31109546,  2.84461118],\n",
              "       [ 0.55081929,  1.73723471,  3.57258979],\n",
              "       [ 0.28500808,  2.41779693,  3.31305583],\n",
              "       [ 1.80227542,  2.08198237,  2.40867152],\n",
              "       [-0.19407554,  0.78857916,  2.18889558]])"
            ]
          },
          "metadata": {},
          "execution_count": 104
        }
      ]
    },
    {
      "cell_type": "code",
      "metadata": {
        "id": "3gJ8xt3xx2jA",
        "colab": {
          "base_uri": "https://localhost:8080/"
        },
        "outputId": "04ce623e-8011-46ae-a902-5f41cedf95b3"
      },
      "source": [
        "np.concatenate((unsort_array, unsort_array+2),axis=1) # stack by columns"
      ],
      "execution_count": null,
      "outputs": [
        {
          "output_type": "execute_result",
          "data": {
            "text/plain": [
              "array([[-0.72456373, -0.68890454,  0.84461118,  1.27543627,  1.31109546,\n",
              "         2.84461118],\n",
              "       [-1.44918071, -0.26276529,  1.57258979,  0.55081929,  1.73723471,\n",
              "         3.57258979],\n",
              "       [-1.71499192,  0.41779693,  1.31305583,  0.28500808,  2.41779693,\n",
              "         3.31305583],\n",
              "       [-0.19772458,  0.08198237,  0.40867152,  1.80227542,  2.08198237,\n",
              "         2.40867152],\n",
              "       [-2.19407554, -1.21142084,  0.18889558, -0.19407554,  0.78857916,\n",
              "         2.18889558]])"
            ]
          },
          "metadata": {},
          "execution_count": 105
        }
      ]
    },
    {
      "cell_type": "markdown",
      "metadata": {
        "id": "BdMAc-HzqsJz"
      },
      "source": [
        "## Reshaping, Transposing and Flattening Arrays\n",
        "\n",
        "Here we will discuss:\n",
        "\n",
        "* `ndarray.reshape()`\n",
        "* `ndarray.transpose()`\n",
        "* `ndarray.T()`\n",
        "* `ndarray.flip()`\n",
        "* `ndarray.flatten()`\n",
        "* `ndarray.ravel()`"
      ]
    },
    {
      "cell_type": "markdown",
      "metadata": {
        "id": "b_cp4zjRWP4l"
      },
      "source": [
        "### Reshaping an array\n",
        "\n",
        "`ndarray.reshape()` will give a new shape to an array without changing the data."
      ]
    },
    {
      "cell_type": "code",
      "metadata": {
        "id": "t3YfAQV_WfPT",
        "colab": {
          "base_uri": "https://localhost:8080/"
        },
        "outputId": "d290b3a7-13a7-4020-ce21-b6dd194e5557"
      },
      "source": [
        "sample_array = np.arange(10)\n",
        "print(sample_array)"
      ],
      "execution_count": null,
      "outputs": [
        {
          "output_type": "stream",
          "name": "stdout",
          "text": [
            "[0 1 2 3 4 5 6 7 8 9]\n"
          ]
        }
      ]
    },
    {
      "cell_type": "code",
      "metadata": {
        "id": "qpiGg6DCWqTk",
        "colab": {
          "base_uri": "https://localhost:8080/"
        },
        "outputId": "1073f2f2-080c-49de-bc13-fcfcba3fbda2"
      },
      "source": [
        "reshaped_array = sample_array.reshape(2,5)\n",
        "print(reshaped_array)"
      ],
      "execution_count": null,
      "outputs": [
        {
          "output_type": "stream",
          "name": "stdout",
          "text": [
            "[[0 1 2 3 4]\n",
            " [5 6 7 8 9]]\n"
          ]
        }
      ]
    },
    {
      "cell_type": "code",
      "metadata": {
        "id": "YFtLvd_UW1sT",
        "colab": {
          "base_uri": "https://localhost:8080/"
        },
        "outputId": "e311e097-a80c-440c-e92f-74348ce8f077"
      },
      "source": [
        "# another example\n",
        "reshaped_array = sample_array.reshape(5,2)\n",
        "print(reshaped_array)"
      ],
      "execution_count": null,
      "outputs": [
        {
          "output_type": "stream",
          "name": "stdout",
          "text": [
            "[[0 1]\n",
            " [2 3]\n",
            " [4 5]\n",
            " [6 7]\n",
            " [8 9]]\n"
          ]
        }
      ]
    },
    {
      "cell_type": "code",
      "metadata": {
        "id": "x_SF9eFSgTer"
      },
      "source": [
        "reshaped_array.transpose()"
      ],
      "execution_count": null,
      "outputs": []
    },
    {
      "cell_type": "markdown",
      "metadata": {
        "id": "-Y3JX1oHozmh"
      },
      "source": [
        "### Transposing an array\n",
        "\n",
        "`ndarray.transpose()` will transpose an array"
      ]
    },
    {
      "cell_type": "code",
      "metadata": {
        "id": "b1_J1FQjzUGb",
        "colab": {
          "base_uri": "https://localhost:8080/"
        },
        "outputId": "9fbd2a06-6f6d-4087-ae28-90519fe03cac"
      },
      "source": [
        "sample_array.shape"
      ],
      "execution_count": null,
      "outputs": [
        {
          "output_type": "execute_result",
          "data": {
            "text/plain": [
              "(10,)"
            ]
          },
          "metadata": {},
          "execution_count": 109
        }
      ]
    },
    {
      "cell_type": "markdown",
      "metadata": {
        "id": "tkxnoYvi0BZ6"
      },
      "source": [
        "By default its in row first."
      ]
    },
    {
      "cell_type": "code",
      "metadata": {
        "id": "lpWK_2AWribU",
        "colab": {
          "base_uri": "https://localhost:8080/"
        },
        "outputId": "4353e87a-a75a-49eb-9fc4-8b515e35b29c"
      },
      "source": [
        "sample_array.transpose()"
      ],
      "execution_count": null,
      "outputs": [
        {
          "output_type": "execute_result",
          "data": {
            "text/plain": [
              "array([0, 1, 2, 3, 4, 5, 6, 7, 8, 9])"
            ]
          },
          "metadata": {},
          "execution_count": 110
        }
      ]
    },
    {
      "cell_type": "code",
      "metadata": {
        "id": "2yaWRSYYzU0v",
        "colab": {
          "base_uri": "https://localhost:8080/"
        },
        "outputId": "152c4cac-ece6-4f52-a714-8ff6af6f34e4"
      },
      "source": [
        "sample_array.transpose().shape"
      ],
      "execution_count": null,
      "outputs": [
        {
          "output_type": "execute_result",
          "data": {
            "text/plain": [
              "(10,)"
            ]
          },
          "metadata": {},
          "execution_count": 111
        }
      ]
    },
    {
      "cell_type": "code",
      "metadata": {
        "id": "FNdh1P7nzreM"
      },
      "source": [
        "sample_col_array = sample_array.reshape(1,-1)"
      ],
      "execution_count": null,
      "outputs": []
    },
    {
      "cell_type": "code",
      "metadata": {
        "id": "KyaTDeJOzxOL",
        "colab": {
          "base_uri": "https://localhost:8080/"
        },
        "outputId": "d1438613-883d-4098-cc85-c9ac27acebd9"
      },
      "source": [
        "sample_col_array.shape"
      ],
      "execution_count": null,
      "outputs": [
        {
          "output_type": "execute_result",
          "data": {
            "text/plain": [
              "(1, 10)"
            ]
          },
          "metadata": {},
          "execution_count": 116
        }
      ]
    },
    {
      "cell_type": "markdown",
      "metadata": {
        "id": "jrkqJvTLqJRi"
      },
      "source": [
        "### Reverse (flip) an array\n",
        "\n",
        "`np.flip()` function allows flipping or reverse the contents of an array along an axis"
      ]
    },
    {
      "cell_type": "code",
      "metadata": {
        "id": "tp-zOZOaqYcx",
        "colab": {
          "base_uri": "https://localhost:8080/"
        },
        "outputId": "c2b53cb5-ca19-4431-b076-1d63b2d5c596"
      },
      "source": [
        "sample_array = np.arange(10)\n",
        "print(\"Sample array\",sample_array)\n",
        "# flip the sample _array\n",
        "reversed_array = np.flip(sample_array)\n",
        "print(\"Reversed sample array\",reversed_array)"
      ],
      "execution_count": null,
      "outputs": [
        {
          "output_type": "stream",
          "name": "stdout",
          "text": [
            "Sample array [0 1 2 3 4 5 6 7 8 9]\n",
            "Reversed sample array [9 8 7 6 5 4 3 2 1 0]\n"
          ]
        }
      ]
    },
    {
      "cell_type": "markdown",
      "metadata": {
        "id": "pYT74iJBrklx"
      },
      "source": [
        "Reverse a 2D Array"
      ]
    },
    {
      "cell_type": "code",
      "metadata": {
        "id": "Qrz-rxqUrlIT",
        "colab": {
          "base_uri": "https://localhost:8080/"
        },
        "outputId": "c183e810-65a4-4010-be7f-d9d14e65a0b3"
      },
      "source": [
        "sample_2darray = np.array([[1, 2, 3, 4], [5, 6, 7, 8], [9, 10, 11, 12]])\n",
        "print(\"Sample 2D array \\n\", sample_2darray)\n",
        "print(\"\\n\")\n",
        "# flip the sample _array\n",
        "reversed_2Darray = np.flip(sample_2darray)\n",
        "print(\"Reversed sample 2D array \\n\",reversed_2Darray)"
      ],
      "execution_count": null,
      "outputs": [
        {
          "output_type": "stream",
          "name": "stdout",
          "text": [
            "Sample 2D array \n",
            " [[ 1  2  3  4]\n",
            " [ 5  6  7  8]\n",
            " [ 9 10 11 12]]\n",
            "\n",
            "\n",
            "Reversed sample 2D array \n",
            " [[12 11 10  9]\n",
            " [ 8  7  6  5]\n",
            " [ 4  3  2  1]]\n"
          ]
        }
      ]
    },
    {
      "cell_type": "markdown",
      "metadata": {
        "id": "Up-sAQYssBql"
      },
      "source": [
        "Reverse only the rows"
      ]
    },
    {
      "cell_type": "code",
      "metadata": {
        "id": "Jq8uEfzhsB-Y",
        "colab": {
          "base_uri": "https://localhost:8080/"
        },
        "outputId": "d1372fbe-b455-4975-86fb-0ae3f65839b8"
      },
      "source": [
        "# Reverse only the rows\n",
        "reversed_2Darray_rows = np.flip(sample_2darray, axis=0)\n",
        "print(\"Reversed sample array\",reversed_2Darray_rows)"
      ],
      "execution_count": null,
      "outputs": [
        {
          "output_type": "stream",
          "name": "stdout",
          "text": [
            "Reversed sample array [[ 9 10 11 12]\n",
            " [ 5  6  7  8]\n",
            " [ 1  2  3  4]]\n"
          ]
        }
      ]
    },
    {
      "cell_type": "markdown",
      "metadata": {
        "id": "2f8u3nJHuUF_"
      },
      "source": [
        "Reverse only the columns"
      ]
    },
    {
      "cell_type": "code",
      "metadata": {
        "id": "l-Svu7ihuUGA",
        "colab": {
          "base_uri": "https://localhost:8080/"
        },
        "outputId": "4b88922d-0fac-4474-d1a0-23115b247fc9"
      },
      "source": [
        "# Reverse only the columns\n",
        "reversed_2Darray_rows = np.flip(sample_2darray, axis=1)\n",
        "print(\"Reversed sample array\",reversed_2Darray_rows)"
      ],
      "execution_count": null,
      "outputs": [
        {
          "output_type": "stream",
          "name": "stdout",
          "text": [
            "Reversed sample array [[ 4  3  2  1]\n",
            " [ 8  7  6  5]\n",
            " [12 11 10  9]]\n"
          ]
        }
      ]
    },
    {
      "cell_type": "markdown",
      "metadata": {
        "id": "cYzT3TGdvQ5-"
      },
      "source": [
        "Flattening an array\n",
        "\n",
        "*Note*: When you use flatten, changes to your new array won’t change the parent array."
      ]
    },
    {
      "cell_type": "code",
      "metadata": {
        "id": "Lm76ugEHvQlP",
        "colab": {
          "base_uri": "https://localhost:8080/"
        },
        "outputId": "50c5b14f-0948-497d-fe7c-b16d692f78cc"
      },
      "source": [
        "sample_2darray = np.array([[1, 2, 3, 4], [5, 6, 7, 8], [9, 10, 11, 12]])\n",
        "print(\"Sample 2D array\", sample_2darray)\n",
        "# flatteing the sample 2d array into a 1D array\n",
        "flattened_2Darray = sample_2darray.flatten()\n",
        "print(\"Reversed sample 2D array\",flattened_2Darray)"
      ],
      "execution_count": null,
      "outputs": [
        {
          "output_type": "stream",
          "name": "stdout",
          "text": [
            "Sample 2D array [[ 1  2  3  4]\n",
            " [ 5  6  7  8]\n",
            " [ 9 10 11 12]]\n",
            "Reversed sample 2D array [ 1  2  3  4  5  6  7  8  9 10 11 12]\n"
          ]
        }
      ]
    },
    {
      "cell_type": "markdown",
      "metadata": {
        "id": "def-uTr1wkPP"
      },
      "source": [
        "Flattening an array using `ndarray.ravel()`\n",
        "\n",
        "*Note:* When you use ravel, the changes you make to the new array will affect the parent array."
      ]
    },
    {
      "cell_type": "code",
      "metadata": {
        "id": "Skkdypduw503",
        "colab": {
          "base_uri": "https://localhost:8080/"
        },
        "outputId": "a2a1429b-5c64-4a26-a1f7-733137da7675"
      },
      "source": [
        "sample_2darray = np.array([[1, 2, 3, 4], [5, 6, 7, 8], [9, 10, 11, 12]])\n",
        "print(\"Sample 2D array\", sample_2darray)\n",
        "# flatteing the sample 2d array into a 1D array\n",
        "flattened_2Darray = sample_2darray.ravel()\n",
        "print(\"\\n Reversed sample 2D array\",flattened_2Darray)\n",
        "# changes to reversed array\n",
        "flattened_2Darray[1] = 33 # assigning new value\n",
        "print(\"\\n Original 2D array\",sample_2darray)"
      ],
      "execution_count": null,
      "outputs": [
        {
          "output_type": "stream",
          "name": "stdout",
          "text": [
            "Sample 2D array [[ 1  2  3  4]\n",
            " [ 5  6  7  8]\n",
            " [ 9 10 11 12]]\n",
            "\n",
            " Reversed sample 2D array [ 1  2  3  4  5  6  7  8  9 10 11 12]\n",
            "\n",
            " Original 2D array [[ 1 33  3  4]\n",
            " [ 5  6  7  8]\n",
            " [ 9 10 11 12]]\n"
          ]
        }
      ]
    },
    {
      "cell_type": "markdown",
      "metadata": {
        "id": "l6Ry0SOIPjBF"
      },
      "source": [
        "# Assignments\n",
        "\n",
        "## DIY Workshop \n",
        "\n",
        "Download the [Jupyter Notebook](https://colab.research.google.com/drive/1PR9SfsXOtPeZ9zExkUNWk3nQ0f8j3pTB?usp=sharing) and answer the questions.\n",
        "\n"
      ]
    }
  ]
}